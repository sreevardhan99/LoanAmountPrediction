{
 "cells": [
  {
   "cell_type": "markdown",
   "id": "37d05b91-a022-4903-8901-f8ae28f30e7b",
   "metadata": {},
   "source": [
    "## Loan Amount Prediction"
   ]
  },
  {
   "cell_type": "code",
   "execution_count": 84,
   "id": "0de20fac",
   "metadata": {},
   "outputs": [],
   "source": [
    "# IMPORT LIBRARIES\n"
   ]
  },
  {
   "cell_type": "code",
   "execution_count": 85,
   "id": "d13c6f6e",
   "metadata": {},
   "outputs": [],
   "source": [
    "import pandas as pd\n",
    "import numpy as np\n",
    "import matplotlib.pyplot as plt\n",
    "import seaborn as sns"
   ]
  },
  {
   "cell_type": "code",
   "execution_count": 86,
   "id": "2641d74e",
   "metadata": {},
   "outputs": [],
   "source": [
    "df = pd.read_csv(\"train.csv\")"
   ]
  },
  {
   "cell_type": "code",
   "execution_count": 87,
   "id": "f96b3cf5",
   "metadata": {},
   "outputs": [],
   "source": [
    "# DATA DESCRIPTION\n"
   ]
  },
  {
   "cell_type": "code",
   "execution_count": 88,
   "id": "85c7acfe",
   "metadata": {},
   "outputs": [],
   "source": [
    "# Variable            Description\n",
    "\n",
    "# Loan_ID------------>Unique Loan ID\n",
    "# Gender------------->Male/ Female\n",
    "# Married------------>Applicant married (Y/N)\n",
    "# Dependents--------->Number of dependents\n",
    "# Education---------->Applicant Education (Graduate/ Under Graduate)\n",
    "# Self_Employed------>Self employed (Y/N)\n",
    "# ApplicantIncome---->Applicant income\n",
    "# CoapplicantIncome-->Coapplicant income\n",
    "# LoanAmount--------->Loan amount in thousands\n",
    "# Loan_Amount_Term--->Term of loan in months\n",
    "# Credit_History----->credit history meets guidelines\n",
    "# Property_Area------>Urban/ Semi Urban/ Rural\n",
    "# Loan_Status-------->Loan approved (Y/N)\n",
    "\n"
   ]
  },
  {
   "cell_type": "code",
   "execution_count": 89,
   "id": "3c6da43a",
   "metadata": {},
   "outputs": [
    {
     "data": {
      "text/plain": [
       "(614, 13)"
      ]
     },
     "execution_count": 89,
     "metadata": {},
     "output_type": "execute_result"
    }
   ],
   "source": [
    "df.shape\n"
   ]
  },
  {
   "cell_type": "code",
   "execution_count": 90,
   "id": "5aca764a",
   "metadata": {},
   "outputs": [
    {
     "data": {
      "text/html": [
       "<div>\n",
       "<style scoped>\n",
       "    .dataframe tbody tr th:only-of-type {\n",
       "        vertical-align: middle;\n",
       "    }\n",
       "\n",
       "    .dataframe tbody tr th {\n",
       "        vertical-align: top;\n",
       "    }\n",
       "\n",
       "    .dataframe thead th {\n",
       "        text-align: right;\n",
       "    }\n",
       "</style>\n",
       "<table border=\"1\" class=\"dataframe\">\n",
       "  <thead>\n",
       "    <tr style=\"text-align: right;\">\n",
       "      <th></th>\n",
       "      <th>Loan_ID</th>\n",
       "      <th>Gender</th>\n",
       "      <th>Married</th>\n",
       "      <th>Dependents</th>\n",
       "      <th>Education</th>\n",
       "      <th>Self_Employed</th>\n",
       "      <th>ApplicantIncome</th>\n",
       "      <th>CoapplicantIncome</th>\n",
       "      <th>LoanAmount</th>\n",
       "      <th>Loan_Amount_Term</th>\n",
       "      <th>Credit_History</th>\n",
       "      <th>Property_Area</th>\n",
       "      <th>Loan_Status</th>\n",
       "    </tr>\n",
       "  </thead>\n",
       "  <tbody>\n",
       "    <tr>\n",
       "      <th>0</th>\n",
       "      <td>LP001002</td>\n",
       "      <td>Male</td>\n",
       "      <td>No</td>\n",
       "      <td>0</td>\n",
       "      <td>Graduate</td>\n",
       "      <td>No</td>\n",
       "      <td>5849</td>\n",
       "      <td>0.0</td>\n",
       "      <td>NaN</td>\n",
       "      <td>360.0</td>\n",
       "      <td>1.0</td>\n",
       "      <td>Urban</td>\n",
       "      <td>Y</td>\n",
       "    </tr>\n",
       "    <tr>\n",
       "      <th>1</th>\n",
       "      <td>LP001003</td>\n",
       "      <td>Male</td>\n",
       "      <td>Yes</td>\n",
       "      <td>1</td>\n",
       "      <td>Graduate</td>\n",
       "      <td>No</td>\n",
       "      <td>4583</td>\n",
       "      <td>1508.0</td>\n",
       "      <td>128.0</td>\n",
       "      <td>360.0</td>\n",
       "      <td>1.0</td>\n",
       "      <td>Rural</td>\n",
       "      <td>N</td>\n",
       "    </tr>\n",
       "    <tr>\n",
       "      <th>2</th>\n",
       "      <td>LP001005</td>\n",
       "      <td>Male</td>\n",
       "      <td>Yes</td>\n",
       "      <td>0</td>\n",
       "      <td>Graduate</td>\n",
       "      <td>Yes</td>\n",
       "      <td>3000</td>\n",
       "      <td>0.0</td>\n",
       "      <td>66.0</td>\n",
       "      <td>360.0</td>\n",
       "      <td>1.0</td>\n",
       "      <td>Urban</td>\n",
       "      <td>Y</td>\n",
       "    </tr>\n",
       "    <tr>\n",
       "      <th>3</th>\n",
       "      <td>LP001006</td>\n",
       "      <td>Male</td>\n",
       "      <td>Yes</td>\n",
       "      <td>0</td>\n",
       "      <td>Not Graduate</td>\n",
       "      <td>No</td>\n",
       "      <td>2583</td>\n",
       "      <td>2358.0</td>\n",
       "      <td>120.0</td>\n",
       "      <td>360.0</td>\n",
       "      <td>1.0</td>\n",
       "      <td>Urban</td>\n",
       "      <td>Y</td>\n",
       "    </tr>\n",
       "    <tr>\n",
       "      <th>4</th>\n",
       "      <td>LP001008</td>\n",
       "      <td>Male</td>\n",
       "      <td>No</td>\n",
       "      <td>0</td>\n",
       "      <td>Graduate</td>\n",
       "      <td>No</td>\n",
       "      <td>6000</td>\n",
       "      <td>0.0</td>\n",
       "      <td>141.0</td>\n",
       "      <td>360.0</td>\n",
       "      <td>1.0</td>\n",
       "      <td>Urban</td>\n",
       "      <td>Y</td>\n",
       "    </tr>\n",
       "  </tbody>\n",
       "</table>\n",
       "</div>"
      ],
      "text/plain": [
       "    Loan_ID Gender Married Dependents     Education Self_Employed  \\\n",
       "0  LP001002   Male      No          0      Graduate            No   \n",
       "1  LP001003   Male     Yes          1      Graduate            No   \n",
       "2  LP001005   Male     Yes          0      Graduate           Yes   \n",
       "3  LP001006   Male     Yes          0  Not Graduate            No   \n",
       "4  LP001008   Male      No          0      Graduate            No   \n",
       "\n",
       "   ApplicantIncome  CoapplicantIncome  LoanAmount  Loan_Amount_Term  \\\n",
       "0             5849                0.0         NaN             360.0   \n",
       "1             4583             1508.0       128.0             360.0   \n",
       "2             3000                0.0        66.0             360.0   \n",
       "3             2583             2358.0       120.0             360.0   \n",
       "4             6000                0.0       141.0             360.0   \n",
       "\n",
       "   Credit_History Property_Area Loan_Status  \n",
       "0             1.0         Urban           Y  \n",
       "1             1.0         Rural           N  \n",
       "2             1.0         Urban           Y  \n",
       "3             1.0         Urban           Y  \n",
       "4             1.0         Urban           Y  "
      ]
     },
     "execution_count": 90,
     "metadata": {},
     "output_type": "execute_result"
    }
   ],
   "source": [
    "df.head()"
   ]
  },
  {
   "cell_type": "code",
   "execution_count": 91,
   "id": "b4112feb",
   "metadata": {},
   "outputs": [
    {
     "name": "stdout",
     "output_type": "stream",
     "text": [
      "<class 'pandas.core.frame.DataFrame'>\n",
      "RangeIndex: 614 entries, 0 to 613\n",
      "Data columns (total 13 columns):\n",
      " #   Column             Non-Null Count  Dtype  \n",
      "---  ------             --------------  -----  \n",
      " 0   Loan_ID            614 non-null    object \n",
      " 1   Gender             601 non-null    object \n",
      " 2   Married            611 non-null    object \n",
      " 3   Dependents         599 non-null    object \n",
      " 4   Education          614 non-null    object \n",
      " 5   Self_Employed      582 non-null    object \n",
      " 6   ApplicantIncome    614 non-null    int64  \n",
      " 7   CoapplicantIncome  614 non-null    float64\n",
      " 8   LoanAmount         592 non-null    float64\n",
      " 9   Loan_Amount_Term   600 non-null    float64\n",
      " 10  Credit_History     564 non-null    float64\n",
      " 11  Property_Area      614 non-null    object \n",
      " 12  Loan_Status        614 non-null    object \n",
      "dtypes: float64(4), int64(1), object(8)\n",
      "memory usage: 62.5+ KB\n"
     ]
    }
   ],
   "source": [
    "df.info()"
   ]
  },
  {
   "cell_type": "code",
   "execution_count": 92,
   "id": "6e2f51c5",
   "metadata": {},
   "outputs": [
    {
     "data": {
      "text/html": [
       "<div>\n",
       "<style scoped>\n",
       "    .dataframe tbody tr th:only-of-type {\n",
       "        vertical-align: middle;\n",
       "    }\n",
       "\n",
       "    .dataframe tbody tr th {\n",
       "        vertical-align: top;\n",
       "    }\n",
       "\n",
       "    .dataframe thead th {\n",
       "        text-align: right;\n",
       "    }\n",
       "</style>\n",
       "<table border=\"1\" class=\"dataframe\">\n",
       "  <thead>\n",
       "    <tr style=\"text-align: right;\">\n",
       "      <th></th>\n",
       "      <th>ApplicantIncome</th>\n",
       "      <th>CoapplicantIncome</th>\n",
       "      <th>LoanAmount</th>\n",
       "      <th>Loan_Amount_Term</th>\n",
       "      <th>Credit_History</th>\n",
       "    </tr>\n",
       "  </thead>\n",
       "  <tbody>\n",
       "    <tr>\n",
       "      <th>count</th>\n",
       "      <td>614.000000</td>\n",
       "      <td>614.000000</td>\n",
       "      <td>592.000000</td>\n",
       "      <td>600.00000</td>\n",
       "      <td>564.000000</td>\n",
       "    </tr>\n",
       "    <tr>\n",
       "      <th>mean</th>\n",
       "      <td>5403.459283</td>\n",
       "      <td>1621.245798</td>\n",
       "      <td>146.412162</td>\n",
       "      <td>342.00000</td>\n",
       "      <td>0.842199</td>\n",
       "    </tr>\n",
       "    <tr>\n",
       "      <th>std</th>\n",
       "      <td>6109.041673</td>\n",
       "      <td>2926.248369</td>\n",
       "      <td>85.587325</td>\n",
       "      <td>65.12041</td>\n",
       "      <td>0.364878</td>\n",
       "    </tr>\n",
       "    <tr>\n",
       "      <th>min</th>\n",
       "      <td>150.000000</td>\n",
       "      <td>0.000000</td>\n",
       "      <td>9.000000</td>\n",
       "      <td>12.00000</td>\n",
       "      <td>0.000000</td>\n",
       "    </tr>\n",
       "    <tr>\n",
       "      <th>25%</th>\n",
       "      <td>2877.500000</td>\n",
       "      <td>0.000000</td>\n",
       "      <td>100.000000</td>\n",
       "      <td>360.00000</td>\n",
       "      <td>1.000000</td>\n",
       "    </tr>\n",
       "    <tr>\n",
       "      <th>50%</th>\n",
       "      <td>3812.500000</td>\n",
       "      <td>1188.500000</td>\n",
       "      <td>128.000000</td>\n",
       "      <td>360.00000</td>\n",
       "      <td>1.000000</td>\n",
       "    </tr>\n",
       "    <tr>\n",
       "      <th>75%</th>\n",
       "      <td>5795.000000</td>\n",
       "      <td>2297.250000</td>\n",
       "      <td>168.000000</td>\n",
       "      <td>360.00000</td>\n",
       "      <td>1.000000</td>\n",
       "    </tr>\n",
       "    <tr>\n",
       "      <th>max</th>\n",
       "      <td>81000.000000</td>\n",
       "      <td>41667.000000</td>\n",
       "      <td>700.000000</td>\n",
       "      <td>480.00000</td>\n",
       "      <td>1.000000</td>\n",
       "    </tr>\n",
       "  </tbody>\n",
       "</table>\n",
       "</div>"
      ],
      "text/plain": [
       "       ApplicantIncome  CoapplicantIncome  LoanAmount  Loan_Amount_Term  \\\n",
       "count       614.000000         614.000000  592.000000         600.00000   \n",
       "mean       5403.459283        1621.245798  146.412162         342.00000   \n",
       "std        6109.041673        2926.248369   85.587325          65.12041   \n",
       "min         150.000000           0.000000    9.000000          12.00000   \n",
       "25%        2877.500000           0.000000  100.000000         360.00000   \n",
       "50%        3812.500000        1188.500000  128.000000         360.00000   \n",
       "75%        5795.000000        2297.250000  168.000000         360.00000   \n",
       "max       81000.000000       41667.000000  700.000000         480.00000   \n",
       "\n",
       "       Credit_History  \n",
       "count      564.000000  \n",
       "mean         0.842199  \n",
       "std          0.364878  \n",
       "min          0.000000  \n",
       "25%          1.000000  \n",
       "50%          1.000000  \n",
       "75%          1.000000  \n",
       "max          1.000000  "
      ]
     },
     "execution_count": 92,
     "metadata": {},
     "output_type": "execute_result"
    }
   ],
   "source": [
    "df.describe()"
   ]
  },
  {
   "cell_type": "code",
   "execution_count": 93,
   "id": "f15f9f32",
   "metadata": {},
   "outputs": [],
   "source": [
    "df['Credit_History'] = df['Credit_History'].astype('O')"
   ]
  },
  {
   "cell_type": "code",
   "execution_count": 94,
   "id": "0410b41e",
   "metadata": {},
   "outputs": [
    {
     "data": {
      "text/html": [
       "<div>\n",
       "<style scoped>\n",
       "    .dataframe tbody tr th:only-of-type {\n",
       "        vertical-align: middle;\n",
       "    }\n",
       "\n",
       "    .dataframe tbody tr th {\n",
       "        vertical-align: top;\n",
       "    }\n",
       "\n",
       "    .dataframe thead th {\n",
       "        text-align: right;\n",
       "    }\n",
       "</style>\n",
       "<table border=\"1\" class=\"dataframe\">\n",
       "  <thead>\n",
       "    <tr style=\"text-align: right;\">\n",
       "      <th></th>\n",
       "      <th>Loan_ID</th>\n",
       "      <th>Gender</th>\n",
       "      <th>Married</th>\n",
       "      <th>Dependents</th>\n",
       "      <th>Education</th>\n",
       "      <th>Self_Employed</th>\n",
       "      <th>Credit_History</th>\n",
       "      <th>Property_Area</th>\n",
       "      <th>Loan_Status</th>\n",
       "    </tr>\n",
       "  </thead>\n",
       "  <tbody>\n",
       "    <tr>\n",
       "      <th>count</th>\n",
       "      <td>614</td>\n",
       "      <td>601</td>\n",
       "      <td>611</td>\n",
       "      <td>599</td>\n",
       "      <td>614</td>\n",
       "      <td>582</td>\n",
       "      <td>564.0</td>\n",
       "      <td>614</td>\n",
       "      <td>614</td>\n",
       "    </tr>\n",
       "    <tr>\n",
       "      <th>unique</th>\n",
       "      <td>614</td>\n",
       "      <td>2</td>\n",
       "      <td>2</td>\n",
       "      <td>4</td>\n",
       "      <td>2</td>\n",
       "      <td>2</td>\n",
       "      <td>2.0</td>\n",
       "      <td>3</td>\n",
       "      <td>2</td>\n",
       "    </tr>\n",
       "    <tr>\n",
       "      <th>top</th>\n",
       "      <td>LP001002</td>\n",
       "      <td>Male</td>\n",
       "      <td>Yes</td>\n",
       "      <td>0</td>\n",
       "      <td>Graduate</td>\n",
       "      <td>No</td>\n",
       "      <td>1.0</td>\n",
       "      <td>Semiurban</td>\n",
       "      <td>Y</td>\n",
       "    </tr>\n",
       "    <tr>\n",
       "      <th>freq</th>\n",
       "      <td>1</td>\n",
       "      <td>489</td>\n",
       "      <td>398</td>\n",
       "      <td>345</td>\n",
       "      <td>480</td>\n",
       "      <td>500</td>\n",
       "      <td>475.0</td>\n",
       "      <td>233</td>\n",
       "      <td>422</td>\n",
       "    </tr>\n",
       "  </tbody>\n",
       "</table>\n",
       "</div>"
      ],
      "text/plain": [
       "         Loan_ID Gender Married Dependents Education Self_Employed  \\\n",
       "count        614    601     611        599       614           582   \n",
       "unique       614      2       2          4         2             2   \n",
       "top     LP001002   Male     Yes          0  Graduate            No   \n",
       "freq           1    489     398        345       480           500   \n",
       "\n",
       "        Credit_History Property_Area Loan_Status  \n",
       "count            564.0           614         614  \n",
       "unique             2.0             3           2  \n",
       "top                1.0     Semiurban           Y  \n",
       "freq             475.0           233         422  "
      ]
     },
     "execution_count": 94,
     "metadata": {},
     "output_type": "execute_result"
    }
   ],
   "source": [
    "df.describe(include='O')\n"
   ]
  },
  {
   "cell_type": "code",
   "execution_count": 95,
   "id": "083961ad",
   "metadata": {},
   "outputs": [],
   "source": [
    "# Let's drop the Loan_ID column as it is not necessary for our model\n",
    "df.drop('Loan_ID', axis=1, inplace=True)\n",
    "\n"
   ]
  },
  {
   "cell_type": "code",
   "execution_count": 96,
   "id": "6a294f80",
   "metadata": {},
   "outputs": [
    {
     "data": {
      "text/plain": [
       "False"
      ]
     },
     "execution_count": 96,
     "metadata": {},
     "output_type": "execute_result"
    }
   ],
   "source": [
    "# Let's check Duplicated rows\n",
    "df.duplicated().any()"
   ]
  },
  {
   "cell_type": "code",
   "execution_count": 97,
   "id": "571c0602",
   "metadata": {},
   "outputs": [
    {
     "data": {
      "text/plain": [
       "Index(['Gender', 'Married', 'Dependents', 'Education', 'Self_Employed',\n",
       "       'ApplicantIncome', 'CoapplicantIncome', 'LoanAmount',\n",
       "       'Loan_Amount_Term', 'Credit_History', 'Property_Area', 'Loan_Status'],\n",
       "      dtype='object')"
      ]
     },
     "execution_count": 97,
     "metadata": {},
     "output_type": "execute_result"
    }
   ],
   "source": [
    "df.columns"
   ]
  },
  {
   "cell_type": "code",
   "execution_count": 98,
   "id": "9ba845eb",
   "metadata": {},
   "outputs": [
    {
     "data": {
      "text/html": [
       "<div>\n",
       "<style scoped>\n",
       "    .dataframe tbody tr th:only-of-type {\n",
       "        vertical-align: middle;\n",
       "    }\n",
       "\n",
       "    .dataframe tbody tr th {\n",
       "        vertical-align: top;\n",
       "    }\n",
       "\n",
       "    .dataframe thead th {\n",
       "        text-align: right;\n",
       "    }\n",
       "</style>\n",
       "<table border=\"1\" class=\"dataframe\">\n",
       "  <thead>\n",
       "    <tr style=\"text-align: right;\">\n",
       "      <th></th>\n",
       "      <th>Gender</th>\n",
       "      <th>Married</th>\n",
       "      <th>Dependents</th>\n",
       "      <th>Education</th>\n",
       "      <th>Self_Employed</th>\n",
       "      <th>ApplicantIncome</th>\n",
       "      <th>CoapplicantIncome</th>\n",
       "      <th>LoanAmount</th>\n",
       "      <th>Loan_Amount_Term</th>\n",
       "      <th>Credit_History</th>\n",
       "      <th>Property_Area</th>\n",
       "      <th>Loan_Status</th>\n",
       "    </tr>\n",
       "  </thead>\n",
       "  <tbody>\n",
       "    <tr>\n",
       "      <th>0</th>\n",
       "      <td>Male</td>\n",
       "      <td>No</td>\n",
       "      <td>0</td>\n",
       "      <td>Graduate</td>\n",
       "      <td>No</td>\n",
       "      <td>5849</td>\n",
       "      <td>0.0</td>\n",
       "      <td>NaN</td>\n",
       "      <td>360.0</td>\n",
       "      <td>1.0</td>\n",
       "      <td>Urban</td>\n",
       "      <td>Y</td>\n",
       "    </tr>\n",
       "  </tbody>\n",
       "</table>\n",
       "</div>"
      ],
      "text/plain": [
       "  Gender Married Dependents Education Self_Employed  ApplicantIncome  \\\n",
       "0   Male      No          0  Graduate            No             5849   \n",
       "\n",
       "   CoapplicantIncome  LoanAmount  Loan_Amount_Term Credit_History  \\\n",
       "0                0.0         NaN             360.0            1.0   \n",
       "\n",
       "  Property_Area Loan_Status  \n",
       "0         Urban           Y  "
      ]
     },
     "execution_count": 98,
     "metadata": {},
     "output_type": "execute_result"
    }
   ],
   "source": [
    "df.head(1)"
   ]
  },
  {
   "cell_type": "code",
   "execution_count": 99,
   "id": "ff4d8aee",
   "metadata": {},
   "outputs": [],
   "source": [
    "import warnings\n",
    "warnings.filterwarnings('ignore')"
   ]
  },
  {
   "cell_type": "code",
   "execution_count": 100,
   "id": "bfcb5014",
   "metadata": {},
   "outputs": [
    {
     "data": {
      "image/png": "[encoded data removed]",
      "text/plain": [
       "<Figure size 960x300 with 2 Axes>"
      ]
     },
     "metadata": {},
     "output_type": "display_data"
    }
   ],
   "source": [
    "# Credit_History\n",
    "\n",
    "grid = sns.FacetGrid(df,col='Loan_Status',  aspect=1.6)\n",
    "grid.map(sns.countplot, 'Credit_History');"
   ]
  },
  {
   "cell_type": "code",
   "execution_count": 101,
   "id": "dd1794b4",
   "metadata": {},
   "outputs": [
    {
     "data": {
      "image/png": "[encoded data removed]",
      "text/plain": [
       "<Figure size 960x300 with 2 Axes>"
      ]
     },
     "metadata": {},
     "output_type": "display_data"
    }
   ],
   "source": [
    "# Gender\n",
    "\n",
    "grid = sns.FacetGrid(df,col='Loan_Status',  aspect=1.6)\n",
    "grid.map(sns.countplot, 'Gender');"
   ]
  },
  {
   "cell_type": "code",
   "execution_count": 102,
   "id": "096be972",
   "metadata": {},
   "outputs": [
    {
     "data": {
      "image/png": "[encoded data removed]",
      "text/plain": [
       "<Figure size 1500x500 with 1 Axes>"
      ]
     },
     "metadata": {},
     "output_type": "display_data"
    }
   ],
   "source": [
    "# Married\n",
    "\n",
    "plt.figure(figsize=(15,5))\n",
    "sns.countplot(x='Married', hue='Loan_Status', data=df);"
   ]
  },
  {
   "cell_type": "code",
   "execution_count": 103,
   "id": "5b5f60d7",
   "metadata": {},
   "outputs": [
    {
     "data": {
      "image/png": "[encoded data removed]",
      "text/plain": [
       "<Figure size 1500x500 with 1 Axes>"
      ]
     },
     "metadata": {},
     "output_type": "display_data"
    }
   ],
   "source": [
    "# Dependents\n",
    "\n",
    "plt.figure(figsize=(15,5))\n",
    "sns.countplot(x='Dependents', hue='Loan_Status', data=df);\n"
   ]
  },
  {
   "cell_type": "code",
   "execution_count": 104,
   "id": "d64d814e",
   "metadata": {},
   "outputs": [
    {
     "data": {
      "image/png": "[encoded data removed]",
      "text/plain": [
       "<Figure size 960x300 with 2 Axes>"
      ]
     },
     "metadata": {},
     "output_type": "display_data"
    }
   ],
   "source": [
    "# Education\n",
    "\n",
    "grid = sns.FacetGrid(df,col='Loan_Status', aspect=1.6)\n",
    "grid.map(sns.countplot, 'Education');"
   ]
  },
  {
   "cell_type": "code",
   "execution_count": 105,
   "id": "cb7d28d9",
   "metadata": {},
   "outputs": [
    {
     "data": {
      "image/png": "[encoded data removed]",
      "text/plain": [
       "<Figure size 960x300 with 2 Axes>"
      ]
     },
     "metadata": {},
     "output_type": "display_data"
    }
   ],
   "source": [
    "# Self_Employed\n",
    "\n",
    "grid = sns.FacetGrid(df,col='Loan_Status', aspect=1.6)\n",
    "grid.map(sns.countplot, 'Self_Employed');"
   ]
  },
  {
   "cell_type": "code",
   "execution_count": 106,
   "id": "a488c7e5",
   "metadata": {},
   "outputs": [
    {
     "data": {
      "image/png": "[encoded data removed]",
      "text/plain": [
       "<Figure size 1500x500 with 1 Axes>"
      ]
     },
     "metadata": {},
     "output_type": "display_data"
    }
   ],
   "source": [
    "# Property_Area\n",
    "\n",
    "plt.figure(figsize=(15,5))\n",
    "sns.countplot(x='Property_Area', hue='Loan_Status', data=df);"
   ]
  },
  {
   "cell_type": "code",
   "execution_count": 107,
   "id": "1677d6c6",
   "metadata": {},
   "outputs": [
    {
     "data": {
      "image/png": "[encoded data removed]",
      "text/plain": [
       "<Figure size 640x480 with 1 Axes>"
      ]
     },
     "metadata": {},
     "output_type": "display_data"
    }
   ],
   "source": [
    "# ApplicantIncome\n",
    "\n",
    "plt.scatter(df['ApplicantIncome'], df['Loan_Status']);"
   ]
  },
  {
   "cell_type": "code",
   "execution_count": 166,
   "id": "efac4e0c",
   "metadata": {},
   "outputs": [
    {
     "data": {
      "text/html": [
       "<div>\n",
       "<style scoped>\n",
       "    .dataframe tbody tr th:only-of-type {\n",
       "        vertical-align: middle;\n",
       "    }\n",
       "\n",
       "    .dataframe tbody tr th {\n",
       "        vertical-align: top;\n",
       "    }\n",
       "\n",
       "    .dataframe thead th {\n",
       "        text-align: right;\n",
       "    }\n",
       "</style>\n",
       "<table border=\"1\" class=\"dataframe\">\n",
       "  <thead>\n",
       "    <tr style=\"text-align: right;\">\n",
       "      <th></th>\n",
       "      <th>Gender</th>\n",
       "      <th>Married</th>\n",
       "      <th>Dependents</th>\n",
       "      <th>Education</th>\n",
       "      <th>Self_Employed</th>\n",
       "      <th>Credit_History</th>\n",
       "      <th>Property_Area</th>\n",
       "      <th>ApplicantIncome</th>\n",
       "      <th>CoapplicantIncome</th>\n",
       "      <th>LoanAmount</th>\n",
       "      <th>Loan_Amount_Term</th>\n",
       "    </tr>\n",
       "    <tr>\n",
       "      <th>Loan_Status</th>\n",
       "      <th></th>\n",
       "      <th></th>\n",
       "      <th></th>\n",
       "      <th></th>\n",
       "      <th></th>\n",
       "      <th></th>\n",
       "      <th></th>\n",
       "      <th></th>\n",
       "      <th></th>\n",
       "      <th></th>\n",
       "      <th></th>\n",
       "    </tr>\n",
       "  </thead>\n",
       "  <tbody>\n",
       "    <tr>\n",
       "      <th>0</th>\n",
       "      <td>1.0</td>\n",
       "      <td>1.0</td>\n",
       "      <td>0.0</td>\n",
       "      <td>0.0</td>\n",
       "      <td>0.0</td>\n",
       "      <td>1.0</td>\n",
       "      <td>1.0</td>\n",
       "      <td>3812.5</td>\n",
       "      <td>1239.5</td>\n",
       "      <td>127.5</td>\n",
       "      <td>360.0</td>\n",
       "    </tr>\n",
       "    <tr>\n",
       "      <th>1</th>\n",
       "      <td>1.0</td>\n",
       "      <td>1.0</td>\n",
       "      <td>0.0</td>\n",
       "      <td>0.0</td>\n",
       "      <td>0.0</td>\n",
       "      <td>1.0</td>\n",
       "      <td>1.0</td>\n",
       "      <td>3833.5</td>\n",
       "      <td>268.0</td>\n",
       "      <td>132.5</td>\n",
       "      <td>360.0</td>\n",
       "    </tr>\n",
       "  </tbody>\n",
       "</table>\n",
       "</div>"
      ],
      "text/plain": [
       "             Gender  Married  Dependents  Education  Self_Employed  \\\n",
       "Loan_Status                                                          \n",
       "0               1.0      1.0         0.0        0.0            0.0   \n",
       "1               1.0      1.0         0.0        0.0            0.0   \n",
       "\n",
       "             Credit_History  Property_Area  ApplicantIncome  \\\n",
       "Loan_Status                                                   \n",
       "0                       1.0            1.0           3812.5   \n",
       "1                       1.0            1.0           3833.5   \n",
       "\n",
       "             CoapplicantIncome  LoanAmount  Loan_Amount_Term  \n",
       "Loan_Status                                                   \n",
       "0                       1239.5       127.5             360.0  \n",
       "1                        268.0       132.5             360.0  "
      ]
     },
     "execution_count": 166,
     "metadata": {},
     "output_type": "execute_result"
    }
   ],
   "source": [
    "df.groupby(\"Loan_Status\").median()"
   ]
  },
  {
   "cell_type": "code",
   "execution_count": 109,
   "id": "7b68b796",
   "metadata": {},
   "outputs": [],
   "source": [
    "# HANDLING MISSING DATA"
   ]
  },
  {
   "cell_type": "code",
   "execution_count": 110,
   "id": "7d6615d0",
   "metadata": {},
   "outputs": [
    {
     "data": {
      "text/plain": [
       "Credit_History       50\n",
       "Self_Employed        32\n",
       "LoanAmount           22\n",
       "Dependents           15\n",
       "Loan_Amount_Term     14\n",
       "Gender               13\n",
       "Married               3\n",
       "Education             0\n",
       "ApplicantIncome       0\n",
       "CoapplicantIncome     0\n",
       "Property_Area         0\n",
       "Loan_Status           0\n",
       "dtype: int64"
      ]
     },
     "execution_count": 110,
     "metadata": {},
     "output_type": "execute_result"
    }
   ],
   "source": [
    "df.isnull().sum().sort_values(ascending=False)"
   ]
  },
  {
   "cell_type": "code",
   "execution_count": 111,
   "id": "be500f44",
   "metadata": {},
   "outputs": [],
   "source": [
    "cat_data = []\n",
    "num_data = []\n",
    "\n",
    "for i,c in enumerate(df.dtypes):\n",
    "    if c == object:\n",
    "        cat_data.append(df.iloc[:, i])\n",
    "    else :\n",
    "        num_data.append(df.iloc[:, i])"
   ]
  },
  {
   "cell_type": "code",
   "execution_count": 112,
   "id": "d6f67fe6",
   "metadata": {},
   "outputs": [],
   "source": [
    "cat_data = pd.DataFrame(cat_data).transpose()\n",
    "num_data = pd.DataFrame(num_data).transpose()"
   ]
  },
  {
   "cell_type": "code",
   "execution_count": 113,
   "id": "2ddee898",
   "metadata": {},
   "outputs": [
    {
     "data": {
      "text/html": [
       "<div>\n",
       "<style scoped>\n",
       "    .dataframe tbody tr th:only-of-type {\n",
       "        vertical-align: middle;\n",
       "    }\n",
       "\n",
       "    .dataframe tbody tr th {\n",
       "        vertical-align: top;\n",
       "    }\n",
       "\n",
       "    .dataframe thead th {\n",
       "        text-align: right;\n",
       "    }\n",
       "</style>\n",
       "<table border=\"1\" class=\"dataframe\">\n",
       "  <thead>\n",
       "    <tr style=\"text-align: right;\">\n",
       "      <th></th>\n",
       "      <th>Gender</th>\n",
       "      <th>Married</th>\n",
       "      <th>Dependents</th>\n",
       "      <th>Education</th>\n",
       "      <th>Self_Employed</th>\n",
       "      <th>Credit_History</th>\n",
       "      <th>Property_Area</th>\n",
       "      <th>Loan_Status</th>\n",
       "    </tr>\n",
       "  </thead>\n",
       "  <tbody>\n",
       "    <tr>\n",
       "      <th>0</th>\n",
       "      <td>Male</td>\n",
       "      <td>No</td>\n",
       "      <td>0</td>\n",
       "      <td>Graduate</td>\n",
       "      <td>No</td>\n",
       "      <td>1.0</td>\n",
       "      <td>Urban</td>\n",
       "      <td>Y</td>\n",
       "    </tr>\n",
       "    <tr>\n",
       "      <th>1</th>\n",
       "      <td>Male</td>\n",
       "      <td>Yes</td>\n",
       "      <td>1</td>\n",
       "      <td>Graduate</td>\n",
       "      <td>No</td>\n",
       "      <td>1.0</td>\n",
       "      <td>Rural</td>\n",
       "      <td>N</td>\n",
       "    </tr>\n",
       "    <tr>\n",
       "      <th>2</th>\n",
       "      <td>Male</td>\n",
       "      <td>Yes</td>\n",
       "      <td>0</td>\n",
       "      <td>Graduate</td>\n",
       "      <td>Yes</td>\n",
       "      <td>1.0</td>\n",
       "      <td>Urban</td>\n",
       "      <td>Y</td>\n",
       "    </tr>\n",
       "    <tr>\n",
       "      <th>3</th>\n",
       "      <td>Male</td>\n",
       "      <td>Yes</td>\n",
       "      <td>0</td>\n",
       "      <td>Not Graduate</td>\n",
       "      <td>No</td>\n",
       "      <td>1.0</td>\n",
       "      <td>Urban</td>\n",
       "      <td>Y</td>\n",
       "    </tr>\n",
       "    <tr>\n",
       "      <th>4</th>\n",
       "      <td>Male</td>\n",
       "      <td>No</td>\n",
       "      <td>0</td>\n",
       "      <td>Graduate</td>\n",
       "      <td>No</td>\n",
       "      <td>1.0</td>\n",
       "      <td>Urban</td>\n",
       "      <td>Y</td>\n",
       "    </tr>\n",
       "  </tbody>\n",
       "</table>\n",
       "</div>"
      ],
      "text/plain": [
       "  Gender Married Dependents     Education Self_Employed Credit_History  \\\n",
       "0   Male      No          0      Graduate            No            1.0   \n",
       "1   Male     Yes          1      Graduate            No            1.0   \n",
       "2   Male     Yes          0      Graduate           Yes            1.0   \n",
       "3   Male     Yes          0  Not Graduate            No            1.0   \n",
       "4   Male      No          0      Graduate            No            1.0   \n",
       "\n",
       "  Property_Area Loan_Status  \n",
       "0         Urban           Y  \n",
       "1         Rural           N  \n",
       "2         Urban           Y  \n",
       "3         Urban           Y  \n",
       "4         Urban           Y  "
      ]
     },
     "execution_count": 113,
     "metadata": {},
     "output_type": "execute_result"
    }
   ],
   "source": [
    "cat_data.head()\n"
   ]
  },
  {
   "cell_type": "code",
   "execution_count": 114,
   "id": "8a77f98e",
   "metadata": {},
   "outputs": [
    {
     "data": {
      "text/html": [
       "<div>\n",
       "<style scoped>\n",
       "    .dataframe tbody tr th:only-of-type {\n",
       "        vertical-align: middle;\n",
       "    }\n",
       "\n",
       "    .dataframe tbody tr th {\n",
       "        vertical-align: top;\n",
       "    }\n",
       "\n",
       "    .dataframe thead th {\n",
       "        text-align: right;\n",
       "    }\n",
       "</style>\n",
       "<table border=\"1\" class=\"dataframe\">\n",
       "  <thead>\n",
       "    <tr style=\"text-align: right;\">\n",
       "      <th></th>\n",
       "      <th>ApplicantIncome</th>\n",
       "      <th>CoapplicantIncome</th>\n",
       "      <th>LoanAmount</th>\n",
       "      <th>Loan_Amount_Term</th>\n",
       "    </tr>\n",
       "  </thead>\n",
       "  <tbody>\n",
       "    <tr>\n",
       "      <th>0</th>\n",
       "      <td>5849.0</td>\n",
       "      <td>0.0</td>\n",
       "      <td>NaN</td>\n",
       "      <td>360.0</td>\n",
       "    </tr>\n",
       "    <tr>\n",
       "      <th>1</th>\n",
       "      <td>4583.0</td>\n",
       "      <td>1508.0</td>\n",
       "      <td>128.0</td>\n",
       "      <td>360.0</td>\n",
       "    </tr>\n",
       "    <tr>\n",
       "      <th>2</th>\n",
       "      <td>3000.0</td>\n",
       "      <td>0.0</td>\n",
       "      <td>66.0</td>\n",
       "      <td>360.0</td>\n",
       "    </tr>\n",
       "    <tr>\n",
       "      <th>3</th>\n",
       "      <td>2583.0</td>\n",
       "      <td>2358.0</td>\n",
       "      <td>120.0</td>\n",
       "      <td>360.0</td>\n",
       "    </tr>\n",
       "    <tr>\n",
       "      <th>4</th>\n",
       "      <td>6000.0</td>\n",
       "      <td>0.0</td>\n",
       "      <td>141.0</td>\n",
       "      <td>360.0</td>\n",
       "    </tr>\n",
       "  </tbody>\n",
       "</table>\n",
       "</div>"
      ],
      "text/plain": [
       "   ApplicantIncome  CoapplicantIncome  LoanAmount  Loan_Amount_Term\n",
       "0           5849.0                0.0         NaN             360.0\n",
       "1           4583.0             1508.0       128.0             360.0\n",
       "2           3000.0                0.0        66.0             360.0\n",
       "3           2583.0             2358.0       120.0             360.0\n",
       "4           6000.0                0.0       141.0             360.0"
      ]
     },
     "execution_count": 114,
     "metadata": {},
     "output_type": "execute_result"
    }
   ],
   "source": [
    "num_data.head()\n"
   ]
  },
  {
   "cell_type": "code",
   "execution_count": 115,
   "id": "97f1ca7b",
   "metadata": {},
   "outputs": [
    {
     "data": {
      "text/plain": [
       "False"
      ]
     },
     "execution_count": 115,
     "metadata": {},
     "output_type": "execute_result"
    }
   ],
   "source": [
    "cat_data = cat_data.apply(lambda x:x.fillna(x.value_counts().index[0]))\n",
    "cat_data.isnull().sum().any()"
   ]
  },
  {
   "cell_type": "code",
   "execution_count": 116,
   "id": "e620bb59",
   "metadata": {},
   "outputs": [
    {
     "data": {
      "text/plain": [
       "False"
      ]
     },
     "execution_count": 116,
     "metadata": {},
     "output_type": "execute_result"
    }
   ],
   "source": [
    "num_data.fillna(method='bfill', inplace=True)\n",
    "num_data.isnull().sum().any()"
   ]
  },
  {
   "cell_type": "code",
   "execution_count": 117,
   "id": "0ccd124e",
   "metadata": {},
   "outputs": [
    {
     "data": {
      "text/html": [
       "<div>\n",
       "<style scoped>\n",
       "    .dataframe tbody tr th:only-of-type {\n",
       "        vertical-align: middle;\n",
       "    }\n",
       "\n",
       "    .dataframe tbody tr th {\n",
       "        vertical-align: top;\n",
       "    }\n",
       "\n",
       "    .dataframe thead th {\n",
       "        text-align: right;\n",
       "    }\n",
       "</style>\n",
       "<table border=\"1\" class=\"dataframe\">\n",
       "  <thead>\n",
       "    <tr style=\"text-align: right;\">\n",
       "      <th></th>\n",
       "      <th>Gender</th>\n",
       "      <th>Married</th>\n",
       "      <th>Dependents</th>\n",
       "      <th>Education</th>\n",
       "      <th>Self_Employed</th>\n",
       "      <th>Credit_History</th>\n",
       "      <th>Property_Area</th>\n",
       "      <th>Loan_Status</th>\n",
       "    </tr>\n",
       "  </thead>\n",
       "  <tbody>\n",
       "    <tr>\n",
       "      <th>0</th>\n",
       "      <td>Male</td>\n",
       "      <td>No</td>\n",
       "      <td>0</td>\n",
       "      <td>Graduate</td>\n",
       "      <td>No</td>\n",
       "      <td>1.0</td>\n",
       "      <td>Urban</td>\n",
       "      <td>Y</td>\n",
       "    </tr>\n",
       "    <tr>\n",
       "      <th>1</th>\n",
       "      <td>Male</td>\n",
       "      <td>Yes</td>\n",
       "      <td>1</td>\n",
       "      <td>Graduate</td>\n",
       "      <td>No</td>\n",
       "      <td>1.0</td>\n",
       "      <td>Rural</td>\n",
       "      <td>N</td>\n",
       "    </tr>\n",
       "    <tr>\n",
       "      <th>2</th>\n",
       "      <td>Male</td>\n",
       "      <td>Yes</td>\n",
       "      <td>0</td>\n",
       "      <td>Graduate</td>\n",
       "      <td>Yes</td>\n",
       "      <td>1.0</td>\n",
       "      <td>Urban</td>\n",
       "      <td>Y</td>\n",
       "    </tr>\n",
       "    <tr>\n",
       "      <th>3</th>\n",
       "      <td>Male</td>\n",
       "      <td>Yes</td>\n",
       "      <td>0</td>\n",
       "      <td>Not Graduate</td>\n",
       "      <td>No</td>\n",
       "      <td>1.0</td>\n",
       "      <td>Urban</td>\n",
       "      <td>Y</td>\n",
       "    </tr>\n",
       "    <tr>\n",
       "      <th>4</th>\n",
       "      <td>Male</td>\n",
       "      <td>No</td>\n",
       "      <td>0</td>\n",
       "      <td>Graduate</td>\n",
       "      <td>No</td>\n",
       "      <td>1.0</td>\n",
       "      <td>Urban</td>\n",
       "      <td>Y</td>\n",
       "    </tr>\n",
       "  </tbody>\n",
       "</table>\n",
       "</div>"
      ],
      "text/plain": [
       "  Gender Married Dependents     Education Self_Employed  Credit_History  \\\n",
       "0   Male      No          0      Graduate            No             1.0   \n",
       "1   Male     Yes          1      Graduate            No             1.0   \n",
       "2   Male     Yes          0      Graduate           Yes             1.0   \n",
       "3   Male     Yes          0  Not Graduate            No             1.0   \n",
       "4   Male      No          0      Graduate            No             1.0   \n",
       "\n",
       "  Property_Area Loan_Status  \n",
       "0         Urban           Y  \n",
       "1         Rural           N  \n",
       "2         Urban           Y  \n",
       "3         Urban           Y  \n",
       "4         Urban           Y  "
      ]
     },
     "execution_count": 117,
     "metadata": {},
     "output_type": "execute_result"
    }
   ],
   "source": [
    "from sklearn.preprocessing import LabelEncoder  \n",
    "le = LabelEncoder()\n",
    "cat_data.head()\n"
   ]
  },
  {
   "cell_type": "code",
   "execution_count": 118,
   "id": "d7186086",
   "metadata": {},
   "outputs": [],
   "source": [
    "target_values = {'Y': 0 , 'N' : 1}\n",
    "\n",
    "target = cat_data['Loan_Status']\n",
    "cat_data.drop('Loan_Status', axis=1, inplace=True)\n",
    "\n",
    "target = target.map(target_values)"
   ]
  },
  {
   "cell_type": "code",
   "execution_count": 119,
   "id": "0e830b99",
   "metadata": {},
   "outputs": [],
   "source": [
    "for i in cat_data:\n",
    "    cat_data[i] = le.fit_transform(cat_data[i])"
   ]
  },
  {
   "cell_type": "code",
   "execution_count": 120,
   "id": "48d32039",
   "metadata": {},
   "outputs": [
    {
     "data": {
      "text/plain": [
       "0    0\n",
       "1    1\n",
       "2    0\n",
       "3    0\n",
       "4    0\n",
       "Name: Loan_Status, dtype: int64"
      ]
     },
     "execution_count": 120,
     "metadata": {},
     "output_type": "execute_result"
    }
   ],
   "source": [
    "target.head()\n"
   ]
  },
  {
   "cell_type": "code",
   "execution_count": 121,
   "id": "402856ca",
   "metadata": {},
   "outputs": [
    {
     "data": {
      "text/html": [
       "<div>\n",
       "<style scoped>\n",
       "    .dataframe tbody tr th:only-of-type {\n",
       "        vertical-align: middle;\n",
       "    }\n",
       "\n",
       "    .dataframe tbody tr th {\n",
       "        vertical-align: top;\n",
       "    }\n",
       "\n",
       "    .dataframe thead th {\n",
       "        text-align: right;\n",
       "    }\n",
       "</style>\n",
       "<table border=\"1\" class=\"dataframe\">\n",
       "  <thead>\n",
       "    <tr style=\"text-align: right;\">\n",
       "      <th></th>\n",
       "      <th>Gender</th>\n",
       "      <th>Married</th>\n",
       "      <th>Dependents</th>\n",
       "      <th>Education</th>\n",
       "      <th>Self_Employed</th>\n",
       "      <th>Credit_History</th>\n",
       "      <th>Property_Area</th>\n",
       "    </tr>\n",
       "  </thead>\n",
       "  <tbody>\n",
       "    <tr>\n",
       "      <th>0</th>\n",
       "      <td>1</td>\n",
       "      <td>0</td>\n",
       "      <td>0</td>\n",
       "      <td>0</td>\n",
       "      <td>0</td>\n",
       "      <td>1</td>\n",
       "      <td>2</td>\n",
       "    </tr>\n",
       "    <tr>\n",
       "      <th>1</th>\n",
       "      <td>1</td>\n",
       "      <td>1</td>\n",
       "      <td>1</td>\n",
       "      <td>0</td>\n",
       "      <td>0</td>\n",
       "      <td>1</td>\n",
       "      <td>0</td>\n",
       "    </tr>\n",
       "    <tr>\n",
       "      <th>2</th>\n",
       "      <td>1</td>\n",
       "      <td>1</td>\n",
       "      <td>0</td>\n",
       "      <td>0</td>\n",
       "      <td>1</td>\n",
       "      <td>1</td>\n",
       "      <td>2</td>\n",
       "    </tr>\n",
       "    <tr>\n",
       "      <th>3</th>\n",
       "      <td>1</td>\n",
       "      <td>1</td>\n",
       "      <td>0</td>\n",
       "      <td>1</td>\n",
       "      <td>0</td>\n",
       "      <td>1</td>\n",
       "      <td>2</td>\n",
       "    </tr>\n",
       "    <tr>\n",
       "      <th>4</th>\n",
       "      <td>1</td>\n",
       "      <td>0</td>\n",
       "      <td>0</td>\n",
       "      <td>0</td>\n",
       "      <td>0</td>\n",
       "      <td>1</td>\n",
       "      <td>2</td>\n",
       "    </tr>\n",
       "  </tbody>\n",
       "</table>\n",
       "</div>"
      ],
      "text/plain": [
       "   Gender  Married  Dependents  Education  Self_Employed  Credit_History  \\\n",
       "0       1        0           0          0              0               1   \n",
       "1       1        1           1          0              0               1   \n",
       "2       1        1           0          0              1               1   \n",
       "3       1        1           0          1              0               1   \n",
       "4       1        0           0          0              0               1   \n",
       "\n",
       "   Property_Area  \n",
       "0              2  \n",
       "1              0  \n",
       "2              2  \n",
       "3              2  \n",
       "4              2  "
      ]
     },
     "execution_count": 121,
     "metadata": {},
     "output_type": "execute_result"
    }
   ],
   "source": [
    "cat_data.head()\n"
   ]
  },
  {
   "cell_type": "code",
   "execution_count": 122,
   "id": "be981f59",
   "metadata": {},
   "outputs": [],
   "source": [
    "df = pd.concat([cat_data, num_data, target], axis=1)"
   ]
  },
  {
   "cell_type": "code",
   "execution_count": 123,
   "id": "962dbbdf",
   "metadata": {},
   "outputs": [
    {
     "data": {
      "text/html": [
       "<div>\n",
       "<style scoped>\n",
       "    .dataframe tbody tr th:only-of-type {\n",
       "        vertical-align: middle;\n",
       "    }\n",
       "\n",
       "    .dataframe tbody tr th {\n",
       "        vertical-align: top;\n",
       "    }\n",
       "\n",
       "    .dataframe thead th {\n",
       "        text-align: right;\n",
       "    }\n",
       "</style>\n",
       "<table border=\"1\" class=\"dataframe\">\n",
       "  <thead>\n",
       "    <tr style=\"text-align: right;\">\n",
       "      <th></th>\n",
       "      <th>Gender</th>\n",
       "      <th>Married</th>\n",
       "      <th>Dependents</th>\n",
       "      <th>Education</th>\n",
       "      <th>Self_Employed</th>\n",
       "      <th>Credit_History</th>\n",
       "      <th>Property_Area</th>\n",
       "      <th>ApplicantIncome</th>\n",
       "      <th>CoapplicantIncome</th>\n",
       "      <th>LoanAmount</th>\n",
       "      <th>Loan_Amount_Term</th>\n",
       "      <th>Loan_Status</th>\n",
       "    </tr>\n",
       "  </thead>\n",
       "  <tbody>\n",
       "    <tr>\n",
       "      <th>0</th>\n",
       "      <td>1</td>\n",
       "      <td>0</td>\n",
       "      <td>0</td>\n",
       "      <td>0</td>\n",
       "      <td>0</td>\n",
       "      <td>1</td>\n",
       "      <td>2</td>\n",
       "      <td>5849.0</td>\n",
       "      <td>0.0</td>\n",
       "      <td>128.0</td>\n",
       "      <td>360.0</td>\n",
       "      <td>0</td>\n",
       "    </tr>\n",
       "    <tr>\n",
       "      <th>1</th>\n",
       "      <td>1</td>\n",
       "      <td>1</td>\n",
       "      <td>1</td>\n",
       "      <td>0</td>\n",
       "      <td>0</td>\n",
       "      <td>1</td>\n",
       "      <td>0</td>\n",
       "      <td>4583.0</td>\n",
       "      <td>1508.0</td>\n",
       "      <td>128.0</td>\n",
       "      <td>360.0</td>\n",
       "      <td>1</td>\n",
       "    </tr>\n",
       "    <tr>\n",
       "      <th>2</th>\n",
       "      <td>1</td>\n",
       "      <td>1</td>\n",
       "      <td>0</td>\n",
       "      <td>0</td>\n",
       "      <td>1</td>\n",
       "      <td>1</td>\n",
       "      <td>2</td>\n",
       "      <td>3000.0</td>\n",
       "      <td>0.0</td>\n",
       "      <td>66.0</td>\n",
       "      <td>360.0</td>\n",
       "      <td>0</td>\n",
       "    </tr>\n",
       "    <tr>\n",
       "      <th>3</th>\n",
       "      <td>1</td>\n",
       "      <td>1</td>\n",
       "      <td>0</td>\n",
       "      <td>1</td>\n",
       "      <td>0</td>\n",
       "      <td>1</td>\n",
       "      <td>2</td>\n",
       "      <td>2583.0</td>\n",
       "      <td>2358.0</td>\n",
       "      <td>120.0</td>\n",
       "      <td>360.0</td>\n",
       "      <td>0</td>\n",
       "    </tr>\n",
       "    <tr>\n",
       "      <th>4</th>\n",
       "      <td>1</td>\n",
       "      <td>0</td>\n",
       "      <td>0</td>\n",
       "      <td>0</td>\n",
       "      <td>0</td>\n",
       "      <td>1</td>\n",
       "      <td>2</td>\n",
       "      <td>6000.0</td>\n",
       "      <td>0.0</td>\n",
       "      <td>141.0</td>\n",
       "      <td>360.0</td>\n",
       "      <td>0</td>\n",
       "    </tr>\n",
       "  </tbody>\n",
       "</table>\n",
       "</div>"
      ],
      "text/plain": [
       "   Gender  Married  Dependents  Education  Self_Employed  Credit_History  \\\n",
       "0       1        0           0          0              0               1   \n",
       "1       1        1           1          0              0               1   \n",
       "2       1        1           0          0              1               1   \n",
       "3       1        1           0          1              0               1   \n",
       "4       1        0           0          0              0               1   \n",
       "\n",
       "   Property_Area  ApplicantIncome  CoapplicantIncome  LoanAmount  \\\n",
       "0              2           5849.0                0.0       128.0   \n",
       "1              0           4583.0             1508.0       128.0   \n",
       "2              2           3000.0                0.0        66.0   \n",
       "3              2           2583.0             2358.0       120.0   \n",
       "4              2           6000.0                0.0       141.0   \n",
       "\n",
       "   Loan_Amount_Term  Loan_Status  \n",
       "0             360.0            0  \n",
       "1             360.0            1  \n",
       "2             360.0            0  \n",
       "3             360.0            0  \n",
       "4             360.0            0  "
      ]
     },
     "execution_count": 123,
     "metadata": {},
     "output_type": "execute_result"
    }
   ],
   "source": [
    "df.head()\n"
   ]
  },
  {
   "cell_type": "code",
   "execution_count": 124,
   "id": "f54c083c",
   "metadata": {},
   "outputs": [],
   "source": [
    "# TRAINING THE DATA"
   ]
  },
  {
   "cell_type": "code",
   "execution_count": 125,
   "id": "93ef1adc",
   "metadata": {},
   "outputs": [],
   "source": [
    "X = pd.concat([cat_data, num_data], axis=1)\n",
    "y = target "
   ]
  },
  {
   "cell_type": "code",
   "execution_count": 126,
   "id": "4393df80",
   "metadata": {},
   "outputs": [
    {
     "name": "stdout",
     "output_type": "stream",
     "text": [
      "X_train shape (491, 11)\n",
      "y_train shape (491,)\n",
      "X_test shape (123, 11)\n",
      "y_test shape (123,)\n",
      "\n",
      "ratio of target in y_train : [0.68635438 0.31364562]\n",
      "ratio of target in y_test : [0.69105691 0.30894309]\n",
      "ratio of target in original_data : [0.68729642 0.31270358]\n"
     ]
    }
   ],
   "source": [
    "from sklearn.model_selection import StratifiedShuffleSplit\n",
    "\n",
    "sss = StratifiedShuffleSplit(n_splits=1, test_size=0.2, random_state=42)\n",
    "\n",
    "for train, test in sss.split(X, y):\n",
    "    X_train, X_test = X.iloc[train], X.iloc[test]\n",
    "    y_train, y_test = y.iloc[train], y.iloc[test]\n",
    "    \n",
    "print('X_train shape', X_train.shape)\n",
    "print('y_train shape', y_train.shape)\n",
    "print('X_test shape', X_test.shape)\n",
    "print('y_test shape', y_test.shape)\n",
    "\n",
    "\n",
    "print('\\nratio of target in y_train :',y_train.value_counts().values/ len(y_train))\n",
    "print('ratio of target in y_test :',y_test.value_counts().values/ len(y_test))\n",
    "print('ratio of target in original_data :',df['Loan_Status'].value_counts().values/ len(df))"
   ]
  },
  {
   "cell_type": "code",
   "execution_count": 127,
   "id": "f1d7b03f",
   "metadata": {},
   "outputs": [],
   "source": [
    "# Let's train using four models\n",
    "# LogisticRegression, KneighboursClassifier, SVC \n",
    "# and Decision tree classifier"
   ]
  },
  {
   "cell_type": "code",
   "execution_count": 128,
   "id": "4b0461ff",
   "metadata": {},
   "outputs": [],
   "source": [
    "from sklearn.linear_model import LogisticRegression\n",
    "from sklearn.neighbors import KNeighborsClassifier\n",
    "from sklearn.svm import SVC\n",
    "from sklearn.tree import DecisionTreeClassifier\n",
    "\n",
    "models = {\n",
    "    'LogisticRegression': LogisticRegression(random_state=42),\n",
    "    'KNeighborsClassifier': KNeighborsClassifier(),\n",
    "    'SVC': SVC(random_state=42),\n",
    "    'DecisionTreeClassifier': DecisionTreeClassifier(max_depth=1, random_state=42)\n",
    "}"
   ]
  },
  {
   "cell_type": "code",
   "execution_count": 129,
   "id": "df27bae0",
   "metadata": {},
   "outputs": [],
   "source": [
    "from sklearn.metrics import precision_score, recall_score, f1_score, log_loss, accuracy_score\n",
    "\n",
    "def loss(y_true, y_pred, retu=False):\n",
    "    pre = precision_score(y_true, y_pred)\n",
    "    rec = recall_score(y_true, y_pred)\n",
    "    f1 = f1_score(y_true, y_pred)\n",
    "    loss = log_loss(y_true, y_pred)\n",
    "    acc = accuracy_score(y_true, y_pred)\n",
    "    \n",
    "    if retu:\n",
    "        return pre, rec, f1, loss, acc\n",
    "    else:\n",
    "        print('  pre: %.3f\\n  rec: %.3f\\n  f1: %.3f\\n  loss: %.3f\\n  acc: %.3f' % (pre, rec, f1, loss, acc))"
   ]
  },
  {
   "cell_type": "code",
   "execution_count": 130,
   "id": "b28b740a",
   "metadata": {},
   "outputs": [
    {
     "name": "stdout",
     "output_type": "stream",
     "text": [
      "LogisticRegression :\n",
      "  pre: 0.930\n",
      "  rec: 0.429\n",
      "  f1: 0.587\n",
      "  loss: 6.827\n",
      "  acc: 0.811\n",
      "------------------------------\n",
      "KNeighborsClassifier :\n",
      "  pre: 0.667\n",
      "  rec: 0.364\n",
      "  f1: 0.471\n",
      "  loss: 9.249\n",
      "  acc: 0.743\n",
      "------------------------------\n",
      "SVC :\n",
      "  pre: 1.000\n",
      "  rec: 0.013\n",
      "  f1: 0.026\n",
      "  loss: 11.158\n",
      "  acc: 0.690\n",
      "------------------------------\n",
      "DecisionTreeClassifier :\n",
      "  pre: 0.929\n",
      "  rec: 0.422\n",
      "  f1: 0.580\n",
      "  loss: 6.900\n",
      "  acc: 0.809\n",
      "------------------------------\n"
     ]
    }
   ],
   "source": [
    "\n",
    "\n",
    "def train_eval_train(models, X, y):\n",
    "    for name, model in models.items():\n",
    "        print(name,':')\n",
    "        model.fit(X, y)\n",
    "        loss(y, model.predict(X))\n",
    "        print('-'*30)\n",
    "        \n",
    "train_eval_train(models, X_train, y_train)"
   ]
  },
  {
   "cell_type": "code",
   "execution_count": 131,
   "id": "9f5cbed4",
   "metadata": {},
   "outputs": [
    {
     "data": {
      "text/plain": [
       "(491, 11)"
      ]
     },
     "execution_count": 131,
     "metadata": {},
     "output_type": "execute_result"
    }
   ],
   "source": [
    "X_train.shape\n"
   ]
  },
  {
   "cell_type": "code",
   "execution_count": 132,
   "id": "d9d710e2",
   "metadata": {},
   "outputs": [
    {
     "name": "stdout",
     "output_type": "stream",
     "text": [
      "LogisticRegression :\n",
      " pre     0.894048\n",
      " rec     0.422500\n",
      " f1      0.562733\n",
      " loss    7.046902\n",
      " acc     0.804490\n",
      "Name: 0, dtype: float64\n",
      "------------------------------\n",
      "KNeighborsClassifier :\n",
      " pre      0.379834\n",
      " rec      0.207500\n",
      " f1       0.259954\n",
      " loss    12.921282\n",
      " acc      0.641510\n",
      "Name: 0, dtype: float64\n",
      "------------------------------\n",
      "SVC :\n",
      " pre      0.000000\n",
      " rec      0.000000\n",
      " f1       0.000000\n",
      " loss    11.525142\n",
      " acc      0.680245\n",
      "Name: 0, dtype: float64\n",
      "------------------------------\n",
      "DecisionTreeClassifier :\n",
      " pre     0.919048\n",
      " rec     0.422500\n",
      " f1      0.565740\n",
      " loss    6.899785\n",
      " acc     0.808571\n",
      "Name: 0, dtype: float64\n",
      "------------------------------\n"
     ]
    }
   ],
   "source": [
    "\n",
    "from sklearn.model_selection import StratifiedKFold\n",
    "skf = StratifiedKFold(n_splits=10, random_state=42, shuffle=True)\n",
    "\n",
    "def train_eval_cross(models, X, y, folds):\n",
    "    \n",
    "    X = pd.DataFrame(X) \n",
    "    y = pd.DataFrame(y)\n",
    "    idx = [' pre', ' rec', ' f1', ' loss', ' acc']\n",
    "    for name, model in models.items():\n",
    "        ls = []\n",
    "        print(name,':')\n",
    "\n",
    "        for train, test in folds.split(X, y):\n",
    "            model.fit(X.iloc[train], y.iloc[train]) \n",
    "            y_pred = model.predict(X.iloc[test]) \n",
    "            ls.append(loss(y.iloc[test], y_pred, retu=True))\n",
    "        print(pd.DataFrame(np.array(ls).mean(axis=0), index=idx)[0]) \n",
    "        print('-'*30)\n",
    "        \n",
    "train_eval_cross(models, X_train, y_train, skf)"
   ]
  },
  {
   "cell_type": "code",
   "execution_count": 133,
   "id": "b20744f7",
   "metadata": {},
   "outputs": [],
   "source": [
    "# Hyperparameter tuning"
   ]
  },
  {
   "cell_type": "code",
   "execution_count": 134,
   "id": "0c54e8a0",
   "metadata": {},
   "outputs": [
    {
     "data": {
      "image/png": "[encoded data removed]",
      "text/plain": [
       "<Figure size 1000x700 with 2 Axes>"
      ]
     },
     "metadata": {},
     "output_type": "display_data"
    }
   ],
   "source": [
    "data_corr = pd.concat([X_train, y_train], axis=1)\n",
    "corr = data_corr.corr()\n",
    "plt.figure(figsize=(10,7))\n",
    "sns.heatmap(corr, annot=True);"
   ]
  },
  {
   "cell_type": "code",
   "execution_count": 135,
   "id": "f0529cb9",
   "metadata": {},
   "outputs": [
    {
     "data": {
      "text/html": [
       "<div>\n",
       "<style scoped>\n",
       "    .dataframe tbody tr th:only-of-type {\n",
       "        vertical-align: middle;\n",
       "    }\n",
       "\n",
       "    .dataframe tbody tr th {\n",
       "        vertical-align: top;\n",
       "    }\n",
       "\n",
       "    .dataframe thead th {\n",
       "        text-align: right;\n",
       "    }\n",
       "</style>\n",
       "<table border=\"1\" class=\"dataframe\">\n",
       "  <thead>\n",
       "    <tr style=\"text-align: right;\">\n",
       "      <th></th>\n",
       "      <th>Gender</th>\n",
       "      <th>Married</th>\n",
       "      <th>Dependents</th>\n",
       "      <th>Education</th>\n",
       "      <th>Self_Employed</th>\n",
       "      <th>Credit_History</th>\n",
       "      <th>Property_Area</th>\n",
       "      <th>ApplicantIncome</th>\n",
       "      <th>CoapplicantIncome</th>\n",
       "      <th>LoanAmount</th>\n",
       "      <th>Loan_Amount_Term</th>\n",
       "    </tr>\n",
       "  </thead>\n",
       "  <tbody>\n",
       "    <tr>\n",
       "      <th>415</th>\n",
       "      <td>0</td>\n",
       "      <td>0</td>\n",
       "      <td>0</td>\n",
       "      <td>0</td>\n",
       "      <td>0</td>\n",
       "      <td>1</td>\n",
       "      <td>2</td>\n",
       "      <td>2995.0</td>\n",
       "      <td>0.0</td>\n",
       "      <td>60.0</td>\n",
       "      <td>360.0</td>\n",
       "    </tr>\n",
       "    <tr>\n",
       "      <th>26</th>\n",
       "      <td>1</td>\n",
       "      <td>1</td>\n",
       "      <td>0</td>\n",
       "      <td>0</td>\n",
       "      <td>0</td>\n",
       "      <td>1</td>\n",
       "      <td>1</td>\n",
       "      <td>2799.0</td>\n",
       "      <td>2253.0</td>\n",
       "      <td>122.0</td>\n",
       "      <td>360.0</td>\n",
       "    </tr>\n",
       "    <tr>\n",
       "      <th>394</th>\n",
       "      <td>1</td>\n",
       "      <td>1</td>\n",
       "      <td>2</td>\n",
       "      <td>0</td>\n",
       "      <td>0</td>\n",
       "      <td>1</td>\n",
       "      <td>2</td>\n",
       "      <td>3100.0</td>\n",
       "      <td>1400.0</td>\n",
       "      <td>113.0</td>\n",
       "      <td>360.0</td>\n",
       "    </tr>\n",
       "    <tr>\n",
       "      <th>584</th>\n",
       "      <td>1</td>\n",
       "      <td>1</td>\n",
       "      <td>1</td>\n",
       "      <td>0</td>\n",
       "      <td>0</td>\n",
       "      <td>0</td>\n",
       "      <td>0</td>\n",
       "      <td>2787.0</td>\n",
       "      <td>1917.0</td>\n",
       "      <td>146.0</td>\n",
       "      <td>360.0</td>\n",
       "    </tr>\n",
       "    <tr>\n",
       "      <th>86</th>\n",
       "      <td>1</td>\n",
       "      <td>1</td>\n",
       "      <td>2</td>\n",
       "      <td>1</td>\n",
       "      <td>0</td>\n",
       "      <td>1</td>\n",
       "      <td>1</td>\n",
       "      <td>3333.0</td>\n",
       "      <td>2000.0</td>\n",
       "      <td>99.0</td>\n",
       "      <td>360.0</td>\n",
       "    </tr>\n",
       "  </tbody>\n",
       "</table>\n",
       "</div>"
      ],
      "text/plain": [
       "     Gender  Married  Dependents  Education  Self_Employed  Credit_History  \\\n",
       "415       0        0           0          0              0               1   \n",
       "26        1        1           0          0              0               1   \n",
       "394       1        1           2          0              0               1   \n",
       "584       1        1           1          0              0               0   \n",
       "86        1        1           2          1              0               1   \n",
       "\n",
       "     Property_Area  ApplicantIncome  CoapplicantIncome  LoanAmount  \\\n",
       "415              2           2995.0                0.0        60.0   \n",
       "26               1           2799.0             2253.0       122.0   \n",
       "394              2           3100.0             1400.0       113.0   \n",
       "584              0           2787.0             1917.0       146.0   \n",
       "86               1           3333.0             2000.0        99.0   \n",
       "\n",
       "     Loan_Amount_Term  \n",
       "415             360.0  \n",
       "26              360.0  \n",
       "394             360.0  \n",
       "584             360.0  \n",
       "86              360.0  "
      ]
     },
     "execution_count": 135,
     "metadata": {},
     "output_type": "execute_result"
    }
   ],
   "source": [
    "X_train.head()\n"
   ]
  },
  {
   "cell_type": "code",
   "execution_count": 136,
   "id": "8f3ffb4a",
   "metadata": {},
   "outputs": [
    {
     "data": {
      "text/html": [
       "<div>\n",
       "<style scoped>\n",
       "    .dataframe tbody tr th:only-of-type {\n",
       "        vertical-align: middle;\n",
       "    }\n",
       "\n",
       "    .dataframe tbody tr th {\n",
       "        vertical-align: top;\n",
       "    }\n",
       "\n",
       "    .dataframe thead th {\n",
       "        text-align: right;\n",
       "    }\n",
       "</style>\n",
       "<table border=\"1\" class=\"dataframe\">\n",
       "  <thead>\n",
       "    <tr style=\"text-align: right;\">\n",
       "      <th></th>\n",
       "      <th>Gender</th>\n",
       "      <th>Married</th>\n",
       "      <th>Dependents</th>\n",
       "      <th>Education</th>\n",
       "      <th>Self_Employed</th>\n",
       "      <th>Credit_History</th>\n",
       "      <th>Property_Area</th>\n",
       "      <th>ApplicantIncome</th>\n",
       "      <th>CoapplicantIncome</th>\n",
       "      <th>LoanAmount</th>\n",
       "      <th>Loan_Amount_Term</th>\n",
       "    </tr>\n",
       "  </thead>\n",
       "  <tbody>\n",
       "    <tr>\n",
       "      <th>415</th>\n",
       "      <td>0</td>\n",
       "      <td>0</td>\n",
       "      <td>0</td>\n",
       "      <td>0</td>\n",
       "      <td>0</td>\n",
       "      <td>1</td>\n",
       "      <td>2</td>\n",
       "      <td>2995.0</td>\n",
       "      <td>0.0</td>\n",
       "      <td>60.0</td>\n",
       "      <td>360.0</td>\n",
       "    </tr>\n",
       "    <tr>\n",
       "      <th>26</th>\n",
       "      <td>1</td>\n",
       "      <td>1</td>\n",
       "      <td>0</td>\n",
       "      <td>0</td>\n",
       "      <td>0</td>\n",
       "      <td>1</td>\n",
       "      <td>1</td>\n",
       "      <td>2799.0</td>\n",
       "      <td>2253.0</td>\n",
       "      <td>122.0</td>\n",
       "      <td>360.0</td>\n",
       "    </tr>\n",
       "    <tr>\n",
       "      <th>394</th>\n",
       "      <td>1</td>\n",
       "      <td>1</td>\n",
       "      <td>2</td>\n",
       "      <td>0</td>\n",
       "      <td>0</td>\n",
       "      <td>1</td>\n",
       "      <td>2</td>\n",
       "      <td>3100.0</td>\n",
       "      <td>1400.0</td>\n",
       "      <td>113.0</td>\n",
       "      <td>360.0</td>\n",
       "    </tr>\n",
       "    <tr>\n",
       "      <th>584</th>\n",
       "      <td>1</td>\n",
       "      <td>1</td>\n",
       "      <td>1</td>\n",
       "      <td>0</td>\n",
       "      <td>0</td>\n",
       "      <td>0</td>\n",
       "      <td>0</td>\n",
       "      <td>2787.0</td>\n",
       "      <td>1917.0</td>\n",
       "      <td>146.0</td>\n",
       "      <td>360.0</td>\n",
       "    </tr>\n",
       "    <tr>\n",
       "      <th>86</th>\n",
       "      <td>1</td>\n",
       "      <td>1</td>\n",
       "      <td>2</td>\n",
       "      <td>1</td>\n",
       "      <td>0</td>\n",
       "      <td>1</td>\n",
       "      <td>1</td>\n",
       "      <td>3333.0</td>\n",
       "      <td>2000.0</td>\n",
       "      <td>99.0</td>\n",
       "      <td>360.0</td>\n",
       "    </tr>\n",
       "  </tbody>\n",
       "</table>\n",
       "</div>"
      ],
      "text/plain": [
       "     Gender  Married  Dependents  Education  Self_Employed  Credit_History  \\\n",
       "415       0        0           0          0              0               1   \n",
       "26        1        1           0          0              0               1   \n",
       "394       1        1           2          0              0               1   \n",
       "584       1        1           1          0              0               0   \n",
       "86        1        1           2          1              0               1   \n",
       "\n",
       "     Property_Area  ApplicantIncome  CoapplicantIncome  LoanAmount  \\\n",
       "415              2           2995.0                0.0        60.0   \n",
       "26               1           2799.0             2253.0       122.0   \n",
       "394              2           3100.0             1400.0       113.0   \n",
       "584              0           2787.0             1917.0       146.0   \n",
       "86               1           3333.0             2000.0        99.0   \n",
       "\n",
       "     Loan_Amount_Term  \n",
       "415             360.0  \n",
       "26              360.0  \n",
       "394             360.0  \n",
       "584             360.0  \n",
       "86              360.0  "
      ]
     },
     "execution_count": 136,
     "metadata": {},
     "output_type": "execute_result"
    }
   ],
   "source": [
    "X_train.head()\n"
   ]
  },
  {
   "cell_type": "code",
   "execution_count": 137,
   "id": "57cc6056",
   "metadata": {},
   "outputs": [],
   "source": [
    "X_train['new_col'] = X_train['CoapplicantIncome'] / X_train['ApplicantIncome']  \n",
    "X_train['new_col_2'] = X_train['LoanAmount'] * X_train['Loan_Amount_Term'] "
   ]
  },
  {
   "cell_type": "code",
   "execution_count": 138,
   "id": "79974af5",
   "metadata": {},
   "outputs": [
    {
     "data": {
      "image/png": "[encoded data removed]",
      "text/plain": [
       "<Figure size 1000x700 with 2 Axes>"
      ]
     },
     "metadata": {},
     "output_type": "display_data"
    }
   ],
   "source": [
    "data_corr = pd.concat([X_train, y_train], axis=1)\n",
    "corr = data_corr.corr()\n",
    "plt.figure(figsize=(10,7))\n",
    "sns.heatmap(corr, annot=True);"
   ]
  },
  {
   "cell_type": "code",
   "execution_count": 139,
   "id": "d244500e",
   "metadata": {},
   "outputs": [],
   "source": [
    "X_train.drop(['CoapplicantIncome', 'ApplicantIncome', 'Loan_Amount_Term', 'LoanAmount'], axis=1, inplace=True)"
   ]
  },
  {
   "cell_type": "code",
   "execution_count": 140,
   "id": "0cf7db38",
   "metadata": {},
   "outputs": [
    {
     "name": "stdout",
     "output_type": "stream",
     "text": [
      "LogisticRegression :\n",
      " pre      0.000000\n",
      " rec      0.000000\n",
      " f1       0.000000\n",
      " loss    11.304467\n",
      " acc      0.686367\n",
      "Name: 0, dtype: float64\n",
      "------------------------------\n",
      "KNeighborsClassifier :\n",
      " pre      0.305317\n",
      " rec      0.162500\n",
      " f1       0.211087\n",
      " loss    13.515634\n",
      " acc      0.625020\n",
      "Name: 0, dtype: float64\n",
      "------------------------------\n",
      "SVC :\n",
      " pre      0.000000\n",
      " rec      0.000000\n",
      " f1       0.000000\n",
      " loss    11.304467\n",
      " acc      0.686367\n",
      "Name: 0, dtype: float64\n",
      "------------------------------\n",
      "DecisionTreeClassifier :\n",
      " pre     0.919048\n",
      " rec     0.422500\n",
      " f1      0.565740\n",
      " loss    6.899785\n",
      " acc     0.808571\n",
      "Name: 0, dtype: float64\n",
      "------------------------------\n"
     ]
    }
   ],
   "source": [
    "train_eval_cross(models, X_train, y_train, skf)"
   ]
  },
  {
   "cell_type": "code",
   "execution_count": 141,
   "id": "4a2ff0f6",
   "metadata": {},
   "outputs": [
    {
     "data": {
      "image/png": "[encoded data removed]",
      "text/plain": [
       "<Figure size 2000x500 with 2 Axes>"
      ]
     },
     "metadata": {},
     "output_type": "display_data"
    }
   ],
   "source": [
    "from scipy.stats import norm\n",
    "\n",
    "fig, ax = plt.subplots(1,2,figsize=(20,5))\n",
    "\n",
    "sns.distplot(X_train['new_col_2'], ax=ax[0], fit=norm)\n",
    "ax[0].set_title('new_col_2 before log')\n",
    "\n",
    "X_train['new_col_2'] = np.log(X_train['new_col_2'])  # logarithm of all the values\n",
    "\n",
    "sns.distplot(X_train['new_col_2'], ax=ax[1], fit=norm)\n",
    "ax[1].set_title('new_col_2 after log');"
   ]
  },
  {
   "cell_type": "code",
   "execution_count": 142,
   "id": "59dde4a7",
   "metadata": {},
   "outputs": [],
   "source": [
    "# EVALUATION OF THE MODELS"
   ]
  },
  {
   "cell_type": "code",
   "execution_count": 143,
   "id": "e1710416",
   "metadata": {},
   "outputs": [
    {
     "name": "stdout",
     "output_type": "stream",
     "text": [
      "LogisticRegression :\n",
      " pre     0.899048\n",
      " rec     0.429167\n",
      " f1      0.569764\n",
      " loss    6.899785\n",
      " acc     0.808571\n",
      "Name: 0, dtype: float64\n",
      "------------------------------\n",
      "KNeighborsClassifier :\n",
      " pre     0.685278\n",
      " rec     0.336667\n",
      " f1      0.439734\n",
      " loss    9.246300\n",
      " acc     0.743469\n",
      "Name: 0, dtype: float64\n",
      "------------------------------\n",
      "SVC :\n",
      " pre     0.811548\n",
      " rec     0.311667\n",
      " f1      0.444833\n",
      " loss    8.151750\n",
      " acc     0.773837\n",
      "Name: 0, dtype: float64\n",
      "------------------------------\n",
      "DecisionTreeClassifier :\n",
      " pre     0.919048\n",
      " rec     0.422500\n",
      " f1      0.565740\n",
      " loss    6.899785\n",
      " acc     0.808571\n",
      "Name: 0, dtype: float64\n",
      "------------------------------\n"
     ]
    }
   ],
   "source": [
    "train_eval_cross(models, X_train, y_train, skf)"
   ]
  },
  {
   "cell_type": "code",
   "execution_count": 144,
   "id": "2d5bcefd",
   "metadata": {},
   "outputs": [
    {
     "name": "stdout",
     "output_type": "stream",
     "text": [
      "before:\n",
      "new_col\n",
      "0.000000    222\n",
      "0.414374      1\n",
      "0.441544      1\n",
      "0.556065      1\n",
      "0.985459      1\n",
      "           ... \n",
      "0.750075      1\n",
      "0.964755      1\n",
      "0.743616      1\n",
      "5.365854      1\n",
      "0.859254      1\n",
      "Name: count, Length: 270, dtype: int64\n",
      "--------------------------------------------------\n",
      "\n",
      "after:\n",
      "new_col\n",
      "1.0    269\n",
      "0.0    222\n",
      "Name: count, dtype: int64\n"
     ]
    }
   ],
   "source": [
    "print('before:')\n",
    "print(X_train['new_col'].value_counts())\n",
    "\n",
    "X_train['new_col'] = [x if x==0 else 1 for x in X_train['new_col']]\n",
    "print('-'*50)\n",
    "print('\\nafter:')\n",
    "print(X_train['new_col'].value_counts())"
   ]
  },
  {
   "cell_type": "code",
   "execution_count": 145,
   "id": "dd43351b",
   "metadata": {},
   "outputs": [
    {
     "name": "stdout",
     "output_type": "stream",
     "text": [
      "LogisticRegression :\n",
      " pre     0.910714\n",
      " rec     0.422500\n",
      " f1      0.562606\n",
      " loss    6.973344\n",
      " acc     0.806531\n",
      "Name: 0, dtype: float64\n",
      "------------------------------\n",
      "KNeighborsClassifier :\n",
      " pre     0.719762\n",
      " rec     0.298333\n",
      " f1      0.406231\n",
      " loss    9.469918\n",
      " acc     0.737265\n",
      "Name: 0, dtype: float64\n",
      "------------------------------\n",
      "SVC :\n",
      " pre     0.819048\n",
      " rec     0.324167\n",
      " f1      0.458747\n",
      " loss    8.003162\n",
      " acc     0.777959\n",
      "Name: 0, dtype: float64\n",
      "------------------------------\n",
      "DecisionTreeClassifier :\n",
      " pre     0.919048\n",
      " rec     0.422500\n",
      " f1      0.565740\n",
      " loss    6.899785\n",
      " acc     0.808571\n",
      "Name: 0, dtype: float64\n",
      "------------------------------\n"
     ]
    }
   ],
   "source": [
    "train_eval_cross(models, X_train, y_train, skf)"
   ]
  },
  {
   "cell_type": "code",
   "execution_count": 146,
   "id": "d8831ab2",
   "metadata": {},
   "outputs": [
    {
     "name": "stdout",
     "output_type": "stream",
     "text": [
      "Gender\n",
      "1    398\n",
      "0     93\n",
      "Name: count, dtype: int64\n",
      "------------------------------------------------\n",
      "Married\n",
      "1    315\n",
      "0    176\n",
      "Name: count, dtype: int64\n",
      "------------------------------------------------\n",
      "Dependents\n",
      "0    292\n",
      "2     85\n",
      "1     78\n",
      "3     36\n",
      "Name: count, dtype: int64\n",
      "------------------------------------------------\n",
      "Education\n",
      "0    382\n",
      "1    109\n",
      "Name: count, dtype: int64\n",
      "------------------------------------------------\n",
      "Self_Employed\n",
      "0    428\n",
      "1     63\n",
      "Name: count, dtype: int64\n",
      "------------------------------------------------\n",
      "Credit_History\n",
      "1    421\n",
      "0     70\n",
      "Name: count, dtype: int64\n",
      "------------------------------------------------\n",
      "Property_Area\n",
      "1    179\n",
      "2    170\n",
      "0    142\n",
      "Name: count, dtype: int64\n",
      "------------------------------------------------\n",
      "new_col\n",
      "1.0    269\n",
      "0.0    222\n",
      "Name: count, dtype: int64\n",
      "------------------------------------------------\n",
      "new_col_2\n",
      "10.673596    18\n",
      "10.586584    13\n",
      "10.961278    11\n",
      "10.491274    11\n",
      "10.738134     9\n",
      "             ..\n",
      "11.643954     1\n",
      "10.595634     1\n",
      "9.856396      1\n",
      "9.963641      1\n",
      "12.100712     1\n",
      "Name: count, Length: 211, dtype: int64\n",
      "------------------------------------------------\n"
     ]
    }
   ],
   "source": [
    "for i in range(X_train.shape[1]):\n",
    "    print(X_train.iloc[:,i].value_counts(), end='\\n------------------------------------------------\\n')"
   ]
  },
  {
   "cell_type": "code",
   "execution_count": 147,
   "id": "13d37f49",
   "metadata": {},
   "outputs": [
    {
     "data": {
      "text/plain": [
       "{'LogisticRegression': LogisticRegression(random_state=42),\n",
       " 'KNeighborsClassifier': KNeighborsClassifier(),\n",
       " 'SVC': SVC(random_state=42),\n",
       " 'DecisionTreeClassifier': DecisionTreeClassifier(max_depth=1, random_state=42)}"
      ]
     },
     "execution_count": 147,
     "metadata": {},
     "output_type": "execute_result"
    }
   ],
   "source": [
    "models"
   ]
  },
  {
   "cell_type": "code",
   "execution_count": 148,
   "id": "7627d8b4",
   "metadata": {},
   "outputs": [
    {
     "name": "stdout",
     "output_type": "stream",
     "text": [
      "<class 'pandas.core.frame.DataFrame'>\n",
      "Index: 491 entries, 415 to 240\n",
      "Data columns (total 14 columns):\n",
      " #   Column             Non-Null Count  Dtype  \n",
      "---  ------             --------------  -----  \n",
      " 0   Gender             491 non-null    int32  \n",
      " 1   Married            491 non-null    int32  \n",
      " 2   Dependents         491 non-null    int32  \n",
      " 3   Education          491 non-null    int32  \n",
      " 4   Self_Employed      491 non-null    int32  \n",
      " 5   Credit_History     491 non-null    int64  \n",
      " 6   Property_Area      491 non-null    int32  \n",
      " 7   ApplicantIncome    491 non-null    float64\n",
      " 8   CoapplicantIncome  491 non-null    float64\n",
      " 9   LoanAmount         491 non-null    float64\n",
      " 10  Loan_Amount_Term   491 non-null    float64\n",
      " 11  new_col            491 non-null    float64\n",
      " 12  new_col_2          491 non-null    float64\n",
      " 13  Loan_Status        491 non-null    int64  \n",
      "dtypes: float64(6), int32(6), int64(2)\n",
      "memory usage: 46.0 KB\n"
     ]
    }
   ],
   "source": [
    "data_corr.info()"
   ]
  },
  {
   "cell_type": "code",
   "execution_count": 149,
   "id": "9467d387",
   "metadata": {},
   "outputs": [
    {
     "data": {
      "text/plain": [
       "415    0\n",
       "26     0\n",
       "394    0\n",
       "584    1\n",
       "86     0\n",
       "      ..\n",
       "386    0\n",
       "487    1\n",
       "466    1\n",
       "285    0\n",
       "240    0\n",
       "Name: Loan_Status, Length: 491, dtype: int64"
      ]
     },
     "execution_count": 149,
     "metadata": {},
     "output_type": "execute_result"
    }
   ],
   "source": [
    "y_train\n"
   ]
  },
  {
   "cell_type": "code",
   "execution_count": 150,
   "id": "0dba5953",
   "metadata": {},
   "outputs": [
    {
     "data": {
      "text/plain": [
       "StratifiedKFold(n_splits=10, random_state=42, shuffle=True)"
      ]
     },
     "execution_count": 150,
     "metadata": {},
     "output_type": "execute_result"
    }
   ],
   "source": [
    "skf"
   ]
  },
  {
   "cell_type": "code",
   "execution_count": 151,
   "id": "76764e00",
   "metadata": {},
   "outputs": [],
   "source": [
    "# HANDLING OUTLIERS"
   ]
  },
  {
   "cell_type": "code",
   "execution_count": 152,
   "id": "95fd7789",
   "metadata": {},
   "outputs": [
    {
     "data": {
      "image/png": "[encoded data removed]",
      "text/plain": [
       "<Figure size 640x480 with 1 Axes>"
      ]
     },
     "metadata": {},
     "output_type": "display_data"
    }
   ],
   "source": [
    "sns.boxplot(X_train['new_col_2']);\n",
    "plt.title('new_col_2 outliers', fontsize=15);\n",
    "plt.xlabel('');"
   ]
  },
  {
   "cell_type": "code",
   "execution_count": 153,
   "id": "88557d80",
   "metadata": {},
   "outputs": [
    {
     "name": "stdout",
     "output_type": "stream",
     "text": [
      "Quartile 25: 10.416008100285975 , Quartile 75: 10.961277846683982\n",
      "iqr: 0.5452697463980076\n",
      "Cut Off: 0.8179046195970114\n",
      "Lower: 9.598103480688962\n",
      "Upper: 11.779182466280993\n",
      "Nubers of Outliers: 39\n",
      "outliers:[12.092679958175083, 8.930626469173578, 7.620705086838262, 12.254862809699606, 7.965545573129992, 9.574983485564092, 9.392661928770137, 9.578311275656766, 9.587406005562649, 9.112948025967533, 8.006367567650246, 9.144200569471638, 9.287301413112312, 9.441452092939569, 9.287301413112312, 12.059890135352092, 8.626944055375356, 9.51044496442652, 11.81569317484005, 9.441452092939569, 8.922658299524402, 9.287301413112312, 11.889991098556695, 12.059890135352092, 12.059890135352092, 12.231740392278752, 9.469622969906265, 9.137769679141348, 11.799607037088427, 9.084777149000837, 9.21830854162536, 8.99961934066053, 8.083328608786376, 12.283033686666302, 9.549665677579801, 11.877568578558138, 11.877568578558138, 12.100712129872347, 9.441452092939569]\n",
      "\n",
      "len X_train before dropping the outliers 491\n",
      "len X_train before dropping the outliers 452\n"
     ]
    }
   ],
   "source": [
    "threshold = 1.5\n",
    "            \n",
    "new_col_2_out = X_train['new_col_2']\n",
    "q25, q75 = np.percentile(new_col_2_out, 25), np.percentile(new_col_2_out, 75) # Q25, Q75\n",
    "print('Quartile 25: {} , Quartile 75: {}'.format(q25, q75))\n",
    "\n",
    "iqr = q75 - q25\n",
    "print('iqr: {}'.format(iqr))\n",
    "\n",
    "cut = iqr * threshold\n",
    "lower, upper = q25 - cut, q75 + cut\n",
    "print('Cut Off: {}'.format(cut))\n",
    "print('Lower: {}'.format(lower))\n",
    "print('Upper: {}'.format(upper))\n",
    "\n",
    "outliers = [x for x in new_col_2_out if x < lower or x > upper]\n",
    "print('Nubers of Outliers: {}'.format(len(outliers)))\n",
    "print('outliers:{}'.format(outliers))\n",
    "\n",
    "data_outliers = pd.concat([X_train, y_train], axis=1)\n",
    "print('\\nlen X_train before dropping the outliers', len(data_outliers))\n",
    "data_outliers = data_outliers.drop(data_outliers[(data_outliers['new_col_2'] > upper) | (data_outliers['new_col_2'] < lower)].index)\n",
    "\n",
    "print('len X_train before dropping the outliers', len(data_outliers))"
   ]
  },
  {
   "cell_type": "code",
   "execution_count": 154,
   "id": "a820192d",
   "metadata": {},
   "outputs": [],
   "source": [
    "X_train = data_outliers.drop('Loan_Status', axis=1)\n",
    "y_train = data_outliers['Loan_Status']"
   ]
  },
  {
   "cell_type": "code",
   "execution_count": 155,
   "id": "d9b912e9",
   "metadata": {},
   "outputs": [
    {
     "data": {
      "image/png": "[encoded data removed]",
      "text/plain": [
       "<Figure size 640x480 with 1 Axes>"
      ]
     },
     "metadata": {},
     "output_type": "display_data"
    }
   ],
   "source": [
    "sns.boxplot(X_train['new_col_2']);\n",
    "plt.title('new_col_2 without outliers', fontsize=15);\n",
    "plt.xlabel('');"
   ]
  },
  {
   "cell_type": "code",
   "execution_count": 156,
   "id": "95d6aa32",
   "metadata": {},
   "outputs": [
    {
     "name": "stdout",
     "output_type": "stream",
     "text": [
      "LogisticRegression :\n",
      " pre     0.907500\n",
      " rec     0.442857\n",
      " f1      0.587307\n",
      " loss    6.703771\n",
      " acc     0.814010\n",
      "Name: 0, dtype: float64\n",
      "------------------------------\n",
      "KNeighborsClassifier :\n",
      " pre     0.748929\n",
      " rec     0.335714\n",
      " f1      0.452126\n",
      " loss    8.784552\n",
      " acc     0.756280\n",
      "Name: 0, dtype: float64\n",
      "------------------------------\n",
      "SVC :\n",
      " pre     0.643333\n",
      " rec     0.235714\n",
      " f1      0.340616\n",
      " loss    8.772364\n",
      " acc     0.756618\n",
      "Name: 0, dtype: float64\n",
      "------------------------------\n",
      "DecisionTreeClassifier :\n",
      " pre     0.920833\n",
      " rec     0.442857\n",
      " f1      0.589413\n",
      " loss    6.623674\n",
      " acc     0.816232\n",
      "Name: 0, dtype: float64\n",
      "------------------------------\n"
     ]
    }
   ],
   "source": [
    "train_eval_cross(models, X_train, y_train, skf)\n"
   ]
  },
  {
   "cell_type": "code",
   "execution_count": 157,
   "id": "ebed106e",
   "metadata": {},
   "outputs": [
    {
     "data": {
      "image/png": "[encoded data removed]",
      "text/plain": [
       "<Figure size 1000x700 with 2 Axes>"
      ]
     },
     "metadata": {},
     "output_type": "display_data"
    }
   ],
   "source": [
    "data_corr = pd.concat([X_train, y_train], axis=1)\n",
    "corr = data_corr.corr()\n",
    "plt.figure(figsize=(10,7))\n",
    "sns.heatmap(corr, annot=True);"
   ]
  },
  {
   "cell_type": "code",
   "execution_count": 158,
   "id": "c9d30dda",
   "metadata": {},
   "outputs": [
    {
     "name": "stdout",
     "output_type": "stream",
     "text": [
      "LogisticRegression :\n",
      " pre     0.907500\n",
      " rec     0.442857\n",
      " f1      0.587307\n",
      " loss    6.703771\n",
      " acc     0.814010\n",
      "Name: 0, dtype: float64\n",
      "------------------------------\n",
      "KNeighborsClassifier :\n",
      " pre     0.748929\n",
      " rec     0.335714\n",
      " f1      0.452126\n",
      " loss    8.784552\n",
      " acc     0.756280\n",
      "Name: 0, dtype: float64\n",
      "------------------------------\n",
      "SVC :\n",
      " pre     0.643333\n",
      " rec     0.235714\n",
      " f1      0.340616\n",
      " loss    8.772364\n",
      " acc     0.756618\n",
      "Name: 0, dtype: float64\n",
      "------------------------------\n",
      "DecisionTreeClassifier :\n",
      " pre     0.920833\n",
      " rec     0.442857\n",
      " f1      0.589413\n",
      " loss    6.623674\n",
      " acc     0.816232\n",
      "Name: 0, dtype: float64\n",
      "------------------------------\n"
     ]
    }
   ],
   "source": [
    "train_eval_cross(models, X_train, y_train, skf)\n"
   ]
  },
  {
   "cell_type": "code",
   "execution_count": 159,
   "id": "3e8120f7",
   "metadata": {},
   "outputs": [
    {
     "data": {
      "image/png": "[encoded data removed]",
      "text/plain": [
       "<Figure size 1000x700 with 2 Axes>"
      ]
     },
     "metadata": {},
     "output_type": "display_data"
    }
   ],
   "source": [
    "data_corr = pd.concat([X_train, y_train], axis=1)\n",
    "corr = data_corr.corr()\n",
    "plt.figure(figsize=(10,7))\n",
    "sns.heatmap(corr, annot=True);"
   ]
  },
  {
   "cell_type": "code",
   "execution_count": 160,
   "id": "31871270",
   "metadata": {},
   "outputs": [
    {
     "data": {
      "text/html": [
       "<div>\n",
       "<style scoped>\n",
       "    .dataframe tbody tr th:only-of-type {\n",
       "        vertical-align: middle;\n",
       "    }\n",
       "\n",
       "    .dataframe tbody tr th {\n",
       "        vertical-align: top;\n",
       "    }\n",
       "\n",
       "    .dataframe thead th {\n",
       "        text-align: right;\n",
       "    }\n",
       "</style>\n",
       "<table border=\"1\" class=\"dataframe\">\n",
       "  <thead>\n",
       "    <tr style=\"text-align: right;\">\n",
       "      <th></th>\n",
       "      <th>Gender</th>\n",
       "      <th>Married</th>\n",
       "      <th>Dependents</th>\n",
       "      <th>Education</th>\n",
       "      <th>Self_Employed</th>\n",
       "      <th>Credit_History</th>\n",
       "      <th>Property_Area</th>\n",
       "      <th>ApplicantIncome</th>\n",
       "      <th>CoapplicantIncome</th>\n",
       "      <th>LoanAmount</th>\n",
       "      <th>Loan_Amount_Term</th>\n",
       "    </tr>\n",
       "  </thead>\n",
       "  <tbody>\n",
       "    <tr>\n",
       "      <th>182</th>\n",
       "      <td>1</td>\n",
       "      <td>1</td>\n",
       "      <td>0</td>\n",
       "      <td>0</td>\n",
       "      <td>0</td>\n",
       "      <td>1</td>\n",
       "      <td>1</td>\n",
       "      <td>4600.0</td>\n",
       "      <td>0.0</td>\n",
       "      <td>73.0</td>\n",
       "      <td>180.0</td>\n",
       "    </tr>\n",
       "    <tr>\n",
       "      <th>440</th>\n",
       "      <td>1</td>\n",
       "      <td>0</td>\n",
       "      <td>0</td>\n",
       "      <td>0</td>\n",
       "      <td>0</td>\n",
       "      <td>1</td>\n",
       "      <td>1</td>\n",
       "      <td>3660.0</td>\n",
       "      <td>5064.0</td>\n",
       "      <td>187.0</td>\n",
       "      <td>360.0</td>\n",
       "    </tr>\n",
       "    <tr>\n",
       "      <th>276</th>\n",
       "      <td>1</td>\n",
       "      <td>1</td>\n",
       "      <td>0</td>\n",
       "      <td>0</td>\n",
       "      <td>0</td>\n",
       "      <td>1</td>\n",
       "      <td>1</td>\n",
       "      <td>3993.0</td>\n",
       "      <td>3274.0</td>\n",
       "      <td>207.0</td>\n",
       "      <td>360.0</td>\n",
       "    </tr>\n",
       "    <tr>\n",
       "      <th>533</th>\n",
       "      <td>1</td>\n",
       "      <td>0</td>\n",
       "      <td>1</td>\n",
       "      <td>0</td>\n",
       "      <td>0</td>\n",
       "      <td>1</td>\n",
       "      <td>1</td>\n",
       "      <td>11250.0</td>\n",
       "      <td>0.0</td>\n",
       "      <td>196.0</td>\n",
       "      <td>360.0</td>\n",
       "    </tr>\n",
       "    <tr>\n",
       "      <th>504</th>\n",
       "      <td>1</td>\n",
       "      <td>1</td>\n",
       "      <td>0</td>\n",
       "      <td>1</td>\n",
       "      <td>0</td>\n",
       "      <td>1</td>\n",
       "      <td>1</td>\n",
       "      <td>3814.0</td>\n",
       "      <td>1483.0</td>\n",
       "      <td>124.0</td>\n",
       "      <td>300.0</td>\n",
       "    </tr>\n",
       "  </tbody>\n",
       "</table>\n",
       "</div>"
      ],
      "text/plain": [
       "     Gender  Married  Dependents  Education  Self_Employed  Credit_History  \\\n",
       "182       1        1           0          0              0               1   \n",
       "440       1        0           0          0              0               1   \n",
       "276       1        1           0          0              0               1   \n",
       "533       1        0           1          0              0               1   \n",
       "504       1        1           0          1              0               1   \n",
       "\n",
       "     Property_Area  ApplicantIncome  CoapplicantIncome  LoanAmount  \\\n",
       "182              1           4600.0                0.0        73.0   \n",
       "440              1           3660.0             5064.0       187.0   \n",
       "276              1           3993.0             3274.0       207.0   \n",
       "533              1          11250.0                0.0       196.0   \n",
       "504              1           3814.0             1483.0       124.0   \n",
       "\n",
       "     Loan_Amount_Term  \n",
       "182             180.0  \n",
       "440             360.0  \n",
       "276             360.0  \n",
       "533             360.0  \n",
       "504             300.0  "
      ]
     },
     "execution_count": 160,
     "metadata": {},
     "output_type": "execute_result"
    }
   ],
   "source": [
    "X_test.head()\n"
   ]
  },
  {
   "cell_type": "code",
   "execution_count": 161,
   "id": "8050694d",
   "metadata": {},
   "outputs": [],
   "source": [
    "X_test_new = X_test.copy()\n"
   ]
  },
  {
   "cell_type": "code",
   "execution_count": 162,
   "id": "6d244e3c",
   "metadata": {},
   "outputs": [],
   "source": [
    "x = []\n",
    "\n",
    "X_test_new['new_col'] = X_test_new['CoapplicantIncome'] / X_test_new['ApplicantIncome']  \n",
    "X_test_new['new_col_2'] = X_test_new['LoanAmount'] * X_test_new['Loan_Amount_Term']\n",
    "X_test_new.drop(['CoapplicantIncome', 'ApplicantIncome', 'Loan_Amount_Term', 'LoanAmount'], axis=1, inplace=True)\n",
    "\n",
    "X_test_new['new_col_2'] = np.log(X_test_new['new_col_2'])\n",
    "\n",
    "X_test_new['new_col'] = [x if x==0 else 1 for x in X_test_new['new_col']]"
   ]
  },
  {
   "cell_type": "code",
   "execution_count": 163,
   "id": "ce2c47c7",
   "metadata": {},
   "outputs": [
    {
     "data": {
      "text/html": [
       "<div>\n",
       "<style scoped>\n",
       "    .dataframe tbody tr th:only-of-type {\n",
       "        vertical-align: middle;\n",
       "    }\n",
       "\n",
       "    .dataframe tbody tr th {\n",
       "        vertical-align: top;\n",
       "    }\n",
       "\n",
       "    .dataframe thead th {\n",
       "        text-align: right;\n",
       "    }\n",
       "</style>\n",
       "<table border=\"1\" class=\"dataframe\">\n",
       "  <thead>\n",
       "    <tr style=\"text-align: right;\">\n",
       "      <th></th>\n",
       "      <th>Gender</th>\n",
       "      <th>Married</th>\n",
       "      <th>Dependents</th>\n",
       "      <th>Education</th>\n",
       "      <th>Self_Employed</th>\n",
       "      <th>Credit_History</th>\n",
       "      <th>Property_Area</th>\n",
       "      <th>new_col</th>\n",
       "      <th>new_col_2</th>\n",
       "    </tr>\n",
       "  </thead>\n",
       "  <tbody>\n",
       "    <tr>\n",
       "      <th>182</th>\n",
       "      <td>1</td>\n",
       "      <td>1</td>\n",
       "      <td>0</td>\n",
       "      <td>0</td>\n",
       "      <td>0</td>\n",
       "      <td>1</td>\n",
       "      <td>1</td>\n",
       "      <td>0.0</td>\n",
       "      <td>9.483416</td>\n",
       "    </tr>\n",
       "    <tr>\n",
       "      <th>440</th>\n",
       "      <td>1</td>\n",
       "      <td>0</td>\n",
       "      <td>0</td>\n",
       "      <td>0</td>\n",
       "      <td>0</td>\n",
       "      <td>1</td>\n",
       "      <td>1</td>\n",
       "      <td>1.0</td>\n",
       "      <td>11.117213</td>\n",
       "    </tr>\n",
       "    <tr>\n",
       "      <th>276</th>\n",
       "      <td>1</td>\n",
       "      <td>1</td>\n",
       "      <td>0</td>\n",
       "      <td>0</td>\n",
       "      <td>0</td>\n",
       "      <td>1</td>\n",
       "      <td>1</td>\n",
       "      <td>1.0</td>\n",
       "      <td>11.218823</td>\n",
       "    </tr>\n",
       "    <tr>\n",
       "      <th>533</th>\n",
       "      <td>1</td>\n",
       "      <td>0</td>\n",
       "      <td>1</td>\n",
       "      <td>0</td>\n",
       "      <td>0</td>\n",
       "      <td>1</td>\n",
       "      <td>1</td>\n",
       "      <td>0.0</td>\n",
       "      <td>11.164219</td>\n",
       "    </tr>\n",
       "    <tr>\n",
       "      <th>504</th>\n",
       "      <td>1</td>\n",
       "      <td>1</td>\n",
       "      <td>0</td>\n",
       "      <td>1</td>\n",
       "      <td>0</td>\n",
       "      <td>1</td>\n",
       "      <td>1</td>\n",
       "      <td>1.0</td>\n",
       "      <td>10.524064</td>\n",
       "    </tr>\n",
       "  </tbody>\n",
       "</table>\n",
       "</div>"
      ],
      "text/plain": [
       "     Gender  Married  Dependents  Education  Self_Employed  Credit_History  \\\n",
       "182       1        1           0          0              0               1   \n",
       "440       1        0           0          0              0               1   \n",
       "276       1        1           0          0              0               1   \n",
       "533       1        0           1          0              0               1   \n",
       "504       1        1           0          1              0               1   \n",
       "\n",
       "     Property_Area  new_col  new_col_2  \n",
       "182              1      0.0   9.483416  \n",
       "440              1      1.0  11.117213  \n",
       "276              1      1.0  11.218823  \n",
       "533              1      0.0  11.164219  \n",
       "504              1      1.0  10.524064  "
      ]
     },
     "execution_count": 163,
     "metadata": {},
     "output_type": "execute_result"
    }
   ],
   "source": [
    "X_test_new.head()\n"
   ]
  },
  {
   "cell_type": "code",
   "execution_count": 164,
   "id": "e66e3159",
   "metadata": {},
   "outputs": [
    {
     "data": {
      "text/html": [
       "<div>\n",
       "<style scoped>\n",
       "    .dataframe tbody tr th:only-of-type {\n",
       "        vertical-align: middle;\n",
       "    }\n",
       "\n",
       "    .dataframe tbody tr th {\n",
       "        vertical-align: top;\n",
       "    }\n",
       "\n",
       "    .dataframe thead th {\n",
       "        text-align: right;\n",
       "    }\n",
       "</style>\n",
       "<table border=\"1\" class=\"dataframe\">\n",
       "  <thead>\n",
       "    <tr style=\"text-align: right;\">\n",
       "      <th></th>\n",
       "      <th>Gender</th>\n",
       "      <th>Married</th>\n",
       "      <th>Dependents</th>\n",
       "      <th>Education</th>\n",
       "      <th>Self_Employed</th>\n",
       "      <th>Credit_History</th>\n",
       "      <th>Property_Area</th>\n",
       "      <th>new_col</th>\n",
       "      <th>new_col_2</th>\n",
       "    </tr>\n",
       "  </thead>\n",
       "  <tbody>\n",
       "    <tr>\n",
       "      <th>415</th>\n",
       "      <td>0</td>\n",
       "      <td>0</td>\n",
       "      <td>0</td>\n",
       "      <td>0</td>\n",
       "      <td>0</td>\n",
       "      <td>1</td>\n",
       "      <td>2</td>\n",
       "      <td>0.0</td>\n",
       "      <td>9.980449</td>\n",
       "    </tr>\n",
       "    <tr>\n",
       "      <th>26</th>\n",
       "      <td>1</td>\n",
       "      <td>1</td>\n",
       "      <td>0</td>\n",
       "      <td>0</td>\n",
       "      <td>0</td>\n",
       "      <td>1</td>\n",
       "      <td>1</td>\n",
       "      <td>1.0</td>\n",
       "      <td>10.690125</td>\n",
       "    </tr>\n",
       "    <tr>\n",
       "      <th>394</th>\n",
       "      <td>1</td>\n",
       "      <td>1</td>\n",
       "      <td>2</td>\n",
       "      <td>0</td>\n",
       "      <td>0</td>\n",
       "      <td>1</td>\n",
       "      <td>2</td>\n",
       "      <td>1.0</td>\n",
       "      <td>10.613492</td>\n",
       "    </tr>\n",
       "    <tr>\n",
       "      <th>584</th>\n",
       "      <td>1</td>\n",
       "      <td>1</td>\n",
       "      <td>1</td>\n",
       "      <td>0</td>\n",
       "      <td>0</td>\n",
       "      <td>0</td>\n",
       "      <td>0</td>\n",
       "      <td>1.0</td>\n",
       "      <td>10.869711</td>\n",
       "    </tr>\n",
       "    <tr>\n",
       "      <th>86</th>\n",
       "      <td>1</td>\n",
       "      <td>1</td>\n",
       "      <td>2</td>\n",
       "      <td>1</td>\n",
       "      <td>0</td>\n",
       "      <td>1</td>\n",
       "      <td>1</td>\n",
       "      <td>1.0</td>\n",
       "      <td>10.481224</td>\n",
       "    </tr>\n",
       "  </tbody>\n",
       "</table>\n",
       "</div>"
      ],
      "text/plain": [
       "     Gender  Married  Dependents  Education  Self_Employed  Credit_History  \\\n",
       "415       0        0           0          0              0               1   \n",
       "26        1        1           0          0              0               1   \n",
       "394       1        1           2          0              0               1   \n",
       "584       1        1           1          0              0               0   \n",
       "86        1        1           2          1              0               1   \n",
       "\n",
       "     Property_Area  new_col  new_col_2  \n",
       "415              2      0.0   9.980449  \n",
       "26               1      1.0  10.690125  \n",
       "394              2      1.0  10.613492  \n",
       "584              0      1.0  10.869711  \n",
       "86               1      1.0  10.481224  "
      ]
     },
     "execution_count": 164,
     "metadata": {},
     "output_type": "execute_result"
    }
   ],
   "source": [
    "X_train.head()\n"
   ]
  },
  {
   "cell_type": "code",
   "execution_count": 165,
   "id": "2dde4c2a",
   "metadata": {},
   "outputs": [
    {
     "name": "stdout",
     "output_type": "stream",
     "text": [
      "LogisticRegression:\n",
      "  pre: 0.850\n",
      "  rec: 0.447\n",
      "  f1: 0.586\n",
      "  loss: 7.033\n",
      "  acc: 0.805\n",
      "----------------------------------------\n",
      "KNeighborsClassifier:\n",
      "  pre: 0.615\n",
      "  rec: 0.421\n",
      "  f1: 0.500\n",
      "  loss: 9.377\n",
      "  acc: 0.740\n",
      "----------------------------------------\n",
      "SVC:\n",
      "  pre: 0.867\n",
      "  rec: 0.342\n",
      "  f1: 0.491\n",
      "  loss: 7.912\n",
      "  acc: 0.780\n",
      "----------------------------------------\n",
      "DecisionTreeClassifier:\n",
      "  pre: 0.895\n",
      "  rec: 0.447\n",
      "  f1: 0.596\n",
      "  loss: 6.740\n",
      "  acc: 0.813\n",
      "----------------------------------------\n"
     ]
    }
   ],
   "source": [
    "for name,model in models.items():\n",
    "    print(name, end=':\\n')\n",
    "    loss(y_test, model.predict(X_test_new))\n",
    "    print('-'*40)"
   ]
  }
 ],
 "metadata": {
  "kernelspec": {
   "display_name": "Python 3 (ipykernel)",
   "language": "python",
   "name": "python3"
  },
  "language_info": {
   "codemirror_mode": {
    "name": "ipython",
    "version": 3
   },
   "file_extension": ".py",
   "mimetype": "text/x-python",
   "name": "python",
   "nbconvert_exporter": "python",
   "pygments_lexer": "ipython3",
   "version": "3.11.5"
  }
 },
 "nbformat": 4,
 "nbformat_minor": 5
}
